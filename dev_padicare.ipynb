{
  "nbformat": 4,
  "nbformat_minor": 0,
  "metadata": {
    "colab": {
      "provenance": [],
      "mount_file_id": "1_ftsToIL-NCtP4cZCaNa5RdYUNwLLBlc",
      "authorship_tag": "ABX9TyNuz4uFolIQNkKhbiBWOb1s",
      "include_colab_link": true
    },
    "kernelspec": {
      "name": "python3",
      "display_name": "Python 3"
    },
    "language_info": {
      "name": "python"
    }
  },
  "cells": [
    {
      "cell_type": "markdown",
      "metadata": {
        "id": "view-in-github",
        "colab_type": "text"
      },
      "source": [
        "<a href=\"https://colab.research.google.com/github/ArPaWi/ML_PadiCare/blob/arya/dev_padicare.ipynb\" target=\"_parent\"><img src=\"https://colab.research.google.com/assets/colab-badge.svg\" alt=\"Open In Colab\"/></a>"
      ]
    },
    {
      "cell_type": "markdown",
      "source": [
        "## **NOTEBOOK PADI CARE**"
      ],
      "metadata": {
        "id": "PJ2eEdaC7wyp"
      }
    },
    {
      "cell_type": "code",
      "source": [
        "from google.colab import drive\n",
        "drive.mount('/content/drive')"
      ],
      "metadata": {
        "colab": {
          "base_uri": "https://localhost:8080/"
        },
        "id": "WeG0jLM8Lg-E",
        "outputId": "211743b9-205f-44e8-a13d-1e9023abae6c"
      },
      "execution_count": null,
      "outputs": [
        {
          "output_type": "stream",
          "name": "stdout",
          "text": [
            "Drive already mounted at /content/drive; to attempt to forcibly remount, call drive.mount(\"/content/drive\", force_remount=True).\n"
          ]
        }
      ]
    },
    {
      "cell_type": "code",
      "source": [
        "!pip install --upgrade tensorflow"
      ],
      "metadata": {
        "colab": {
          "base_uri": "https://localhost:8080/",
          "height": 1000
        },
        "id": "9BBzcR6nsdk4",
        "outputId": "81e46c74-8460-4025-99de-0104f6873030"
      },
      "execution_count": null,
      "outputs": [
        {
          "output_type": "stream",
          "name": "stdout",
          "text": [
            "Requirement already satisfied: tensorflow in /usr/local/lib/python3.10/dist-packages (2.17.1)\n",
            "Collecting tensorflow\n",
            "  Downloading tensorflow-2.18.0-cp310-cp310-manylinux_2_17_x86_64.manylinux2014_x86_64.whl.metadata (4.1 kB)\n",
            "Requirement already satisfied: absl-py>=1.0.0 in /usr/local/lib/python3.10/dist-packages (from tensorflow) (1.4.0)\n",
            "Requirement already satisfied: astunparse>=1.6.0 in /usr/local/lib/python3.10/dist-packages (from tensorflow) (1.6.3)\n",
            "Requirement already satisfied: flatbuffers>=24.3.25 in /usr/local/lib/python3.10/dist-packages (from tensorflow) (24.3.25)\n",
            "Requirement already satisfied: gast!=0.5.0,!=0.5.1,!=0.5.2,>=0.2.1 in /usr/local/lib/python3.10/dist-packages (from tensorflow) (0.6.0)\n",
            "Requirement already satisfied: google-pasta>=0.1.1 in /usr/local/lib/python3.10/dist-packages (from tensorflow) (0.2.0)\n",
            "Requirement already satisfied: libclang>=13.0.0 in /usr/local/lib/python3.10/dist-packages (from tensorflow) (18.1.1)\n",
            "Requirement already satisfied: opt-einsum>=2.3.2 in /usr/local/lib/python3.10/dist-packages (from tensorflow) (3.4.0)\n",
            "Requirement already satisfied: packaging in /usr/local/lib/python3.10/dist-packages (from tensorflow) (24.2)\n",
            "Requirement already satisfied: protobuf!=4.21.0,!=4.21.1,!=4.21.2,!=4.21.3,!=4.21.4,!=4.21.5,<6.0.0dev,>=3.20.3 in /usr/local/lib/python3.10/dist-packages (from tensorflow) (4.25.5)\n",
            "Requirement already satisfied: requests<3,>=2.21.0 in /usr/local/lib/python3.10/dist-packages (from tensorflow) (2.32.3)\n",
            "Requirement already satisfied: setuptools in /usr/local/lib/python3.10/dist-packages (from tensorflow) (75.1.0)\n",
            "Requirement already satisfied: six>=1.12.0 in /usr/local/lib/python3.10/dist-packages (from tensorflow) (1.16.0)\n",
            "Requirement already satisfied: termcolor>=1.1.0 in /usr/local/lib/python3.10/dist-packages (from tensorflow) (2.5.0)\n",
            "Requirement already satisfied: typing-extensions>=3.6.6 in /usr/local/lib/python3.10/dist-packages (from tensorflow) (4.12.2)\n",
            "Requirement already satisfied: wrapt>=1.11.0 in /usr/local/lib/python3.10/dist-packages (from tensorflow) (1.16.0)\n",
            "Requirement already satisfied: grpcio<2.0,>=1.24.3 in /usr/local/lib/python3.10/dist-packages (from tensorflow) (1.68.0)\n",
            "Collecting tensorboard<2.19,>=2.18 (from tensorflow)\n",
            "  Downloading tensorboard-2.18.0-py3-none-any.whl.metadata (1.6 kB)\n",
            "Requirement already satisfied: keras>=3.5.0 in /usr/local/lib/python3.10/dist-packages (from tensorflow) (3.5.0)\n",
            "Requirement already satisfied: numpy<2.1.0,>=1.26.0 in /usr/local/lib/python3.10/dist-packages (from tensorflow) (1.26.4)\n",
            "Requirement already satisfied: h5py>=3.11.0 in /usr/local/lib/python3.10/dist-packages (from tensorflow) (3.12.1)\n",
            "Requirement already satisfied: ml-dtypes<0.5.0,>=0.4.0 in /usr/local/lib/python3.10/dist-packages (from tensorflow) (0.4.1)\n",
            "Requirement already satisfied: tensorflow-io-gcs-filesystem>=0.23.1 in /usr/local/lib/python3.10/dist-packages (from tensorflow) (0.37.1)\n",
            "Requirement already satisfied: wheel<1.0,>=0.23.0 in /usr/local/lib/python3.10/dist-packages (from astunparse>=1.6.0->tensorflow) (0.45.0)\n",
            "Requirement already satisfied: rich in /usr/local/lib/python3.10/dist-packages (from keras>=3.5.0->tensorflow) (13.9.4)\n",
            "Requirement already satisfied: namex in /usr/local/lib/python3.10/dist-packages (from keras>=3.5.0->tensorflow) (0.0.8)\n",
            "Requirement already satisfied: optree in /usr/local/lib/python3.10/dist-packages (from keras>=3.5.0->tensorflow) (0.13.1)\n",
            "Requirement already satisfied: charset-normalizer<4,>=2 in /usr/local/lib/python3.10/dist-packages (from requests<3,>=2.21.0->tensorflow) (3.4.0)\n",
            "Requirement already satisfied: idna<4,>=2.5 in /usr/local/lib/python3.10/dist-packages (from requests<3,>=2.21.0->tensorflow) (3.10)\n",
            "Requirement already satisfied: urllib3<3,>=1.21.1 in /usr/local/lib/python3.10/dist-packages (from requests<3,>=2.21.0->tensorflow) (2.2.3)\n",
            "Requirement already satisfied: certifi>=2017.4.17 in /usr/local/lib/python3.10/dist-packages (from requests<3,>=2.21.0->tensorflow) (2024.8.30)\n",
            "Requirement already satisfied: markdown>=2.6.8 in /usr/local/lib/python3.10/dist-packages (from tensorboard<2.19,>=2.18->tensorflow) (3.7)\n",
            "Requirement already satisfied: tensorboard-data-server<0.8.0,>=0.7.0 in /usr/local/lib/python3.10/dist-packages (from tensorboard<2.19,>=2.18->tensorflow) (0.7.2)\n",
            "Requirement already satisfied: werkzeug>=1.0.1 in /usr/local/lib/python3.10/dist-packages (from tensorboard<2.19,>=2.18->tensorflow) (3.1.3)\n",
            "Requirement already satisfied: MarkupSafe>=2.1.1 in /usr/local/lib/python3.10/dist-packages (from werkzeug>=1.0.1->tensorboard<2.19,>=2.18->tensorflow) (3.0.2)\n",
            "Requirement already satisfied: markdown-it-py>=2.2.0 in /usr/local/lib/python3.10/dist-packages (from rich->keras>=3.5.0->tensorflow) (3.0.0)\n",
            "Requirement already satisfied: pygments<3.0.0,>=2.13.0 in /usr/local/lib/python3.10/dist-packages (from rich->keras>=3.5.0->tensorflow) (2.18.0)\n",
            "Requirement already satisfied: mdurl~=0.1 in /usr/local/lib/python3.10/dist-packages (from markdown-it-py>=2.2.0->rich->keras>=3.5.0->tensorflow) (0.1.2)\n",
            "Downloading tensorflow-2.18.0-cp310-cp310-manylinux_2_17_x86_64.manylinux2014_x86_64.whl (615.3 MB)\n",
            "\u001b[2K   \u001b[90m━━━━━━━━━━━━━━━━━━━━━━━━━━━━━━━━━━━━━━━━\u001b[0m \u001b[32m615.3/615.3 MB\u001b[0m \u001b[31m966.9 kB/s\u001b[0m eta \u001b[36m0:00:00\u001b[0m\n",
            "\u001b[?25hDownloading tensorboard-2.18.0-py3-none-any.whl (5.5 MB)\n",
            "\u001b[2K   \u001b[90m━━━━━━━━━━━━━━━━━━━━━━━━━━━━━━━━━━━━━━━━\u001b[0m \u001b[32m5.5/5.5 MB\u001b[0m \u001b[31m55.6 MB/s\u001b[0m eta \u001b[36m0:00:00\u001b[0m\n",
            "\u001b[?25hInstalling collected packages: tensorboard, tensorflow\n",
            "  Attempting uninstall: tensorboard\n",
            "    Found existing installation: tensorboard 2.17.1\n",
            "    Uninstalling tensorboard-2.17.1:\n",
            "      Successfully uninstalled tensorboard-2.17.1\n",
            "  Attempting uninstall: tensorflow\n",
            "    Found existing installation: tensorflow 2.17.1\n",
            "    Uninstalling tensorflow-2.17.1:\n",
            "      Successfully uninstalled tensorflow-2.17.1\n",
            "\u001b[31mERROR: pip's dependency resolver does not currently take into account all the packages that are installed. This behaviour is the source of the following dependency conflicts.\n",
            "tf-keras 2.17.0 requires tensorflow<2.18,>=2.17, but you have tensorflow 2.18.0 which is incompatible.\u001b[0m\u001b[31m\n",
            "\u001b[0mSuccessfully installed tensorboard-2.18.0 tensorflow-2.18.0\n"
          ]
        },
        {
          "output_type": "display_data",
          "data": {
            "application/vnd.colab-display-data+json": {
              "pip_warning": {
                "packages": [
                  "tensorflow"
                ]
              },
              "id": "4097cb61ffe34a01aadeb6d670c60255"
            }
          },
          "metadata": {}
        }
      ]
    },
    {
      "cell_type": "code",
      "execution_count": null,
      "metadata": {
        "id": "9mPMTMj17ftj"
      },
      "outputs": [],
      "source": [
        "import os\n",
        "import random\n",
        "import numpy as np\n",
        "from io import BytesIO\n",
        "\n",
        "# Plotting and dealing with images\n",
        "import matplotlib.pyplot as plt\n",
        "import matplotlib.image as mpimg\n",
        "\n",
        "import tensorflow as tf\n",
        "\n",
        "# Interactive widgets\n",
        "from ipywidgets import widgets\n",
        "\n",
        "# MobileNetV2\n",
        "from tensorflow.keras.applications import MobileNetV2\n",
        "from tensorflow.keras.layers import GlobalAveragePooling2D, Dense\n",
        "from tensorflow.keras.models import Sequential\n",
        "from tensorflow.keras.preprocessing.image import ImageDataGenerator\n",
        "from tensorflow.keras.optimizers import Adam\n",
        "from tensorflow.keras.layers import Dropout\n",
        "from tensorflow.keras.callbacks import EarlyStopping\n",
        "from tensorflow.keras.callbacks import ReduceLROnPlateau"
      ]
    },
    {
      "cell_type": "code",
      "source": [
        "BASE_DIR = r'drive/MyDrive/data'\n",
        "\n",
        "train_dir = os.path.join(BASE_DIR, 'train')\n",
        "validation_dir = os.path.join(BASE_DIR, 'validation')\n",
        "\n",
        "# Directory with training pictures\n",
        "train_brownspot_dir = os.path.join(train_dir, 'brownspot')\n",
        "train_healthy_dir = os.path.join(train_dir, 'healthy')\n",
        "train_hispa_dir = os.path.join(train_dir, 'hispa')\n",
        "train_leafblast_dir = os.path.join(train_dir, 'leafblast')\n",
        "\n",
        "# Directory with validation pictures\n",
        "validation_brownspot_dir = os.path.join(validation_dir, 'brownspot')\n",
        "validation_healthy_dir = os.path.join(validation_dir, 'healthy')\n",
        "validation_hispa_dir = os.path.join(validation_dir, 'hispa')\n",
        "validation_leafblast_dir = os.path.join(validation_dir, 'leafblast')\n",
        "\n",
        "# Function to print directory contents\n",
        "def print_directory_contents(directory, description):\n",
        "    if os.path.exists(directory):\n",
        "        print(f\"\\nContents of {description}: {os.listdir(directory)}\")\n",
        "    else:\n",
        "        print(f\"\\nDirectory {description} does not exist: {directory}\")\n",
        "\n",
        "# Check base directory\n",
        "print_directory_contents(BASE_DIR, \"base directory\")\n",
        "\n",
        "# Check train and validation directories\n",
        "print_directory_contents(train_dir, \"train directory\")\n",
        "print_directory_contents(validation_dir, \"validation directory\")\n",
        "\n",
        "# Check each class directory\n",
        "print_directory_contents(train_brownspot_dir, \"train/brownspot directory\")\n",
        "print_directory_contents(train_healthy_dir, \"train/healthy directory\")\n",
        "print_directory_contents(train_hispa_dir, \"train/hispa directory\")\n",
        "print_directory_contents(train_leafblast_dir, \"train/leafblast directory\")\n",
        "\n",
        "print_directory_contents(validation_brownspot_dir, \"validation/brownspot directory\")\n",
        "print_directory_contents(validation_healthy_dir, \"validation/healthy directory\")\n",
        "print_directory_contents(validation_hispa_dir, \"validation/hispa directory\")\n",
        "print_directory_contents(validation_leafblast_dir, \"validation/leafblast directory\")"
      ],
      "metadata": {
        "colab": {
          "base_uri": "https://localhost:8080/"
        },
        "id": "tuYdEJHaIoHS",
        "outputId": "ba77bd53-2d4f-46a6-90f0-feaa23f54f02"
      },
      "execution_count": null,
      "outputs": [
        {
          "output_type": "stream",
          "name": "stdout",
          "text": [
            "\n",
            "Contents of base directory: ['train', 'validation']\n",
            "\n",
            "Contents of train directory: ['leafblast', 'healthy', 'brownspot', 'hispa']\n",
            "\n",
            "Contents of validation directory: ['hispa', 'brownspot', 'leafblast', 'healthy']\n",
            "\n",
            "Contents of train/brownspot directory: ['train_brownspot323.jpg', 'train_brownspot269.jpg', 'train_brownspot127.jpg', 'train_brownspot12.jpg', 'train_brownspot252.jpg', 'train_brownspot207.jpg', 'train_brownspot18.jpg', 'train_brownspot316.jpg', 'train_brownspot184.jpg', 'train_brownspot188.jpg', 'train_brownspot140.jpg', 'train_brownspot221.jpg', 'train_brownspot236.jpg', 'train_brownspot113.jpg', 'train_brownspot275.jpg', 'train_brownspot126.jpg', 'train_brownspot267.jpg', 'train_brownspot158.jpg', 'train_brownspot24.jpg', 'train_brownspot309.jpg', 'train_brownspot186.jpg', 'train_brownspot228.jpg', 'train_brownspot19.jpg', 'train_brownspot105.jpg', 'train_brownspot151.jpg', 'train_brownspot208.jpg', 'train_brownspot117.jpg', 'train_brownspot16.jpg', 'train_brownspot194.jpg', 'train_brownspot196.jpg', 'train_brownspot114.jpg', 'train_brownspot291.jpg', 'train_brownspot160.jpg', 'train_brownspot307.jpg', 'train_brownspot185.jpg', 'train_brownspot312.jpg', 'train_brownspot250.jpg', 'train_brownspot23.jpg', 'train_brownspot163.jpg', 'train_brownspot169.jpg', 'train_brownspot1.jpg', 'train_brownspot162.jpg', 'train_brownspot324.jpg', 'train_brownspot124.jpg', 'train_brownspot283.jpg', 'train_brownspot320.jpg', 'train_brownspot286.jpg', 'train_brownspot257.jpg', 'train_brownspot274.jpg', 'train_brownspot212.jpg', 'train_brownspot287.jpg', 'train_brownspot28.jpg', 'train_brownspot133.jpg', 'train_brownspot281.jpg', 'train_brownspot182.jpg', 'train_brownspot319.jpg', 'train_brownspot239.jpg', 'train_brownspot25.jpg', 'train_brownspot242.jpg', 'train_brownspot234.jpg', 'train_brownspot241.jpg', 'train_brownspot132.jpg', 'train_brownspot276.jpg', 'train_brownspot230.jpg', 'train_brownspot231.jpg', 'train_brownspot308.jpg', 'train_brownspot121.jpg', 'train_brownspot22.jpg', 'train_brownspot201.jpg', 'train_brownspot14.jpg', 'train_brownspot145.jpg', 'train_brownspot198.jpg', 'train_brownspot139.jpg', 'train_brownspot32.jpg', 'train_brownspot29.jpg', 'train_brownspot285.jpg', 'train_brownspot156.jpg', 'train_brownspot310.jpg', 'train_brownspot111.jpg', 'train_brownspot11.jpg', 'train_brownspot259.jpg', 'train_brownspot146.jpg', 'train_brownspot189.jpg', 'train_brownspot277.jpg', 'train_brownspot152.jpg', 'train_brownspot209.jpg', 'train_brownspot301.jpg', 'train_brownspot112.jpg', 'train_brownspot144.jpg', 'train_brownspot21.jpg', 'train_brownspot299.jpg', 'train_brownspot134.jpg', 'train_brownspot255.jpg', 'train_brownspot273.jpg', 'train_brownspot109.jpg', 'train_brownspot318.jpg', 'train_brownspot266.jpg', 'train_brownspot148.jpg', 'train_brownspot10.jpg', 'train_brownspot249.jpg', 'train_brownspot327.jpg', 'train_brownspot150.jpg', 'train_brownspot317.jpg', 'train_brownspot147.jpg', 'train_brownspot141.jpg', 'train_brownspot168.jpg', 'train_brownspot149.jpg', 'train_brownspot104.jpg', 'train_brownspot246.jpg', 'train_brownspot138.jpg', 'train_brownspot248.jpg', 'train_brownspot314.jpg', 'train_brownspot225.jpg', 'train_brownspot202.jpg', 'train_brownspot203.jpg', 'train_brownspot278.jpg', 'train_brownspot297.jpg', 'train_brownspot205.jpg', 'train_brownspot270.jpg', 'train_brownspot110.jpg', 'train_brownspot100.jpg', 'train_brownspot244.jpg', 'train_brownspot2.jpg', 'train_brownspot157.jpg', 'train_brownspot329.jpg', 'train_brownspot108.jpg', 'train_brownspot175.jpg', 'train_brownspot195.jpg', 'train_brownspot279.jpg', 'train_brownspot123.jpg', 'train_brownspot119.jpg', 'train_brownspot260.jpg', 'train_brownspot204.jpg', 'train_brownspot235.jpg', 'train_brownspot164.jpg', 'train_brownspot331.jpg', 'train_brownspot268.jpg', 'train_brownspot325.jpg', 'train_brownspot294.jpg', 'train_brownspot107.jpg', 'train_brownspot218.jpg', 'train_brownspot258.jpg', 'train_brownspot251.jpg', 'train_brownspot187.jpg', 'train_brownspot289.jpg', 'train_brownspot300.jpg', 'train_brownspot302.jpg', 'train_brownspot247.jpg', 'train_brownspot17.jpg', 'train_brownspot222.jpg', 'train_brownspot118.jpg', 'train_brownspot215.jpg', 'train_brownspot166.jpg', 'train_brownspot3.jpg', 'train_brownspot311.jpg', 'train_brownspot321.jpg', 'train_brownspot271.jpg', 'train_brownspot167.jpg', 'train_brownspot129.jpg', 'train_brownspot220.jpg', 'train_brownspot125.jpg', 'train_brownspot165.jpg', 'train_brownspot238.jpg', 'train_brownspot280.jpg', 'train_brownspot261.jpg', 'train_brownspot326.jpg', 'train_brownspot305.jpg', 'train_brownspot240.jpg', 'train_brownspot33.jpg', 'train_brownspot153.jpg', 'train_brownspot237.jpg', 'train_brownspot130.jpg', 'train_brownspot330.jpg', 'train_brownspot30.jpg', 'train_brownspot181.jpg', 'train_brownspot183.jpg', 'train_brownspot272.jpg', 'train_brownspot333.jpg', 'train_brownspot206.jpg', 'train_brownspot161.jpg', 'train_brownspot131.jpg', 'train_brownspot154.jpg', 'train_brownspot213.jpg', 'train_brownspot102.jpg', 'train_brownspot135.jpg', 'train_brownspot171.jpg', 'train_brownspot298.jpg', 'train_brownspot243.jpg', 'train_brownspot15.jpg', 'train_brownspot315.jpg', 'train_brownspot192.jpg', 'train_brownspot295.jpg', 'train_brownspot334.jpg', 'train_brownspot177.jpg', 'train_brownspot233.jpg', 'train_brownspot303.jpg', 'train_brownspot27.jpg', 'train_brownspot306.jpg', 'train_brownspot313.jpg', 'train_brownspot245.jpg', 'train_brownspot143.jpg', 'train_brownspot173.jpg', 'train_brownspot178.jpg', 'train_brownspot335.jpg', 'train_brownspot229.jpg', 'train_brownspot20.jpg', 'train_brownspot31.jpg', 'train_brownspot217.jpg', 'train_brownspot288.jpg', 'train_brownspot232.jpg', 'train_brownspot106.jpg', 'train_brownspot13.jpg', 'train_brownspot284.jpg', 'train_brownspot155.jpg', 'train_brownspot256.jpg', 'train_brownspot128.jpg', 'train_brownspot197.jpg', 'train_brownspot219.jpg', 'train_brownspot322.jpg', 'train_brownspot254.jpg', 'train_brownspot332.jpg', 'train_brownspot253.jpg', 'train_brownspot265.jpg', 'train_brownspot211.jpg', 'train_brownspot200.jpg', 'train_brownspot199.jpg', 'train_brownspot224.jpg', 'train_brownspot296.jpg', 'train_brownspot26.jpg', 'train_brownspot214.jpg', 'train_brownspot176.jpg', 'train_brownspot190.jpg', 'train_brownspot293.jpg', 'train_brownspot191.jpg', 'train_brownspot292.jpg', 'train_brownspot336.jpg', 'train_brownspot136.jpg', 'train_brownspot122.jpg', 'train_brownspot328.jpg', 'train_brownspot120.jpg', 'train_brownspot174.jpg', 'train_brownspot264.jpg', 'train_brownspot282.jpg', 'train_brownspot216.jpg', 'train_brownspot103.jpg', 'train_brownspot180.jpg', 'train_brownspot159.jpg', 'train_brownspot137.jpg', 'train_brownspot142.jpg', 'train_brownspot263.jpg', 'train_brownspot101.jpg', 'train_brownspot227.jpg', 'train_brownspot172.jpg', 'train_brownspot210.jpg', 'train_brownspot290.jpg', 'train_brownspot262.jpg', 'train_brownspot179.jpg', 'train_brownspot223.jpg', 'train_brownspot115.jpg', 'train_brownspot304.jpg', 'train_brownspot226.jpg', 'train_brownspot116.jpg', 'train_brownspot193.jpg', 'train_brownspot170.jpg', 'train_brownspot373.jpg', 'train_brownspot55.jpg', 'train_brownspot401.jpg', 'train_brownspot90.jpg', 'train_brownspot439.jpg', 'train_brownspot435.jpg', 'train_brownspot421.jpg', 'train_brownspot375.jpg', 'train_brownspot358.jpg', 'train_brownspot361.jpg', 'train_brownspot72.jpg', 'train_brownspot75.jpg', 'train_brownspot69.jpg', 'train_brownspot372.jpg', 'train_brownspot60.jpg', 'train_brownspot416.jpg', 'train_brownspot65.jpg', 'train_brownspot392.jpg', 'train_brownspot406.jpg', 'train_brownspot357.jpg', 'train_brownspot39.jpg', 'train_brownspot91.jpg', 'train_brownspot350.jpg', 'train_brownspot45.jpg', 'train_brownspot4.jpg', 'train_brownspot73.jpg', 'train_brownspot44.jpg', 'train_brownspot424.jpg', 'train_brownspot371.jpg', 'train_brownspot341.jpg', 'train_brownspot97.jpg', 'train_brownspot433.jpg', 'train_brownspot400.jpg', 'train_brownspot63.jpg', 'train_brownspot437.jpg', 'train_brownspot34.jpg', 'train_brownspot396.jpg', 'train_brownspot422.jpg', 'train_brownspot399.jpg', 'train_brownspot362.jpg', 'train_brownspot360.jpg', 'train_brownspot83.jpg', 'train_brownspot343.jpg', 'train_brownspot377.jpg', 'train_brownspot355.jpg', 'train_brownspot381.jpg', 'train_brownspot338.jpg', 'train_brownspot432.jpg', 'train_brownspot409.jpg', 'train_brownspot394.jpg', 'train_brownspot36.jpg', 'train_brownspot46.jpg', 'train_brownspot6.jpg', 'train_brownspot405.jpg', 'train_brownspot408.jpg', 'train_brownspot386.jpg', 'train_brownspot374.jpg', 'train_brownspot431.jpg', 'train_brownspot9.jpg', 'train_brownspot420.jpg', 'train_brownspot61.jpg', 'train_brownspot387.jpg', 'train_brownspot379.jpg', 'train_brownspot418.jpg', 'train_brownspot390.jpg', 'train_brownspot419.jpg', 'train_brownspot78.jpg', 'train_brownspot57.jpg', 'train_brownspot98.jpg', 'train_brownspot354.jpg', 'train_brownspot74.jpg', 'train_brownspot449.jpg', 'train_brownspot389.jpg', 'train_brownspot47.jpg', 'train_brownspot411.jpg', 'train_brownspot395.jpg', 'train_brownspot38.jpg', 'train_brownspot86.jpg', 'train_brownspot66.jpg', 'train_brownspot445.jpg', 'train_brownspot447.jpg', 'train_brownspot80.jpg', 'train_brownspot99.jpg', 'train_brownspot380.jpg', 'train_brownspot62.jpg', 'train_brownspot351.jpg', 'train_brownspot448.jpg', 'train_brownspot425.jpg', 'train_brownspot369.jpg', 'train_brownspot407.jpg', 'train_brownspot429.jpg', 'train_brownspot40.jpg', 'train_brownspot415.jpg', 'train_brownspot376.jpg', 'train_brownspot368.jpg', 'train_brownspot87.jpg', 'train_brownspot414.jpg', 'train_brownspot85.jpg', 'train_brownspot68.jpg', 'train_brownspot53.jpg', 'train_brownspot84.jpg', 'train_brownspot446.jpg', 'train_brownspot347.jpg', 'train_brownspot410.jpg', 'train_brownspot365.jpg', 'train_brownspot42.jpg', 'train_brownspot398.jpg', 'train_brownspot404.jpg', 'train_brownspot430.jpg', 'train_brownspot88.jpg', 'train_brownspot49.jpg', 'train_brownspot342.jpg', 'train_brownspot385.jpg', 'train_brownspot82.jpg', 'train_brownspot43.jpg', 'train_brownspot352.jpg', 'train_brownspot58.jpg', 'train_brownspot426.jpg', 'train_brownspot349.jpg', 'train_brownspot51.jpg', 'train_brownspot370.jpg', 'train_brownspot444.jpg', 'train_brownspot423.jpg', 'train_brownspot412.jpg', 'train_brownspot359.jpg', 'train_brownspot70.jpg', 'train_brownspot59.jpg', 'train_brownspot340.jpg', 'train_brownspot81.jpg', 'train_brownspot346.jpg', 'train_brownspot367.jpg', 'train_brownspot54.jpg', 'train_brownspot89.jpg', 'train_brownspot337.jpg', 'train_brownspot403.jpg', 'train_brownspot8.jpg', 'train_brownspot339.jpg', 'train_brownspot345.jpg', 'train_brownspot382.jpg', 'train_brownspot388.jpg', 'train_brownspot48.jpg', 'train_brownspot64.jpg', 'train_brownspot438.jpg', 'train_brownspot427.jpg', 'train_brownspot402.jpg', 'train_brownspot41.jpg', 'train_brownspot37.jpg', 'train_brownspot428.jpg', 'train_brownspot383.jpg', 'train_brownspot443.jpg', 'train_brownspot71.jpg', 'train_brownspot5.jpg', 'train_brownspot92.jpg', 'train_brownspot391.jpg', 'train_brownspot397.jpg', 'train_brownspot393.jpg', 'train_brownspot67.jpg', 'train_brownspot94.jpg', 'train_brownspot363.jpg', 'train_brownspot440.jpg', 'train_brownspot79.jpg', 'train_brownspot434.jpg', 'train_brownspot353.jpg', 'train_brownspot364.jpg', 'train_brownspot384.jpg', 'train_brownspot93.jpg', 'train_brownspot413.jpg', 'train_brownspot50.jpg', 'train_brownspot344.jpg', 'train_brownspot417.jpg', 'train_brownspot96.jpg', 'train_brownspot52.jpg', 'train_brownspot77.jpg', 'train_brownspot95.jpg', 'train_brownspot450.jpg', 'train_brownspot7.jpg', 'train_brownspot76.jpg', 'train_brownspot348.jpg', 'train_brownspot366.jpg', 'train_brownspot436.jpg', 'train_brownspot35.jpg', 'train_brownspot441.jpg', 'train_brownspot442.jpg', 'train_brownspot378.jpg', 'train_brownspot56.jpg', 'train_brownspot356.jpg']\n",
            "\n",
            "Contents of train/healthy directory: ['train_healthy41.jpg', 'train_healthy362.jpg', 'train_healthy31.jpg', 'train_healthy448.jpg', 'train_healthy60.jpg', 'train_healthy277.jpg', 'train_healthy343.jpg', 'train_healthy273.jpg', 'train_healthy366.jpg', 'train_healthy168.jpg', 'train_healthy389.jpg', 'train_healthy92.jpg', 'train_healthy262.jpg', 'train_healthy130.jpg', 'train_healthy58.jpg', 'train_healthy52.jpg', 'train_healthy133.jpg', 'train_healthy177.jpg', 'train_healthy155.jpg', 'train_healthy81.jpg', 'train_healthy321.jpg', 'train_healthy164.jpg', 'train_healthy127.jpg', 'train_healthy356.jpg', 'train_healthy437.jpg', 'train_healthy55.jpg', 'train_healthy308.jpg', 'train_healthy19.jpg', 'train_healthy199.jpg', 'train_healthy141.jpg', 'train_healthy247.jpg', 'train_healthy245.jpg', 'train_healthy29.jpg', 'train_healthy30.jpg', 'train_healthy430.jpg', 'train_healthy320.jpg', 'train_healthy165.jpg', 'train_healthy442.jpg', 'train_healthy172.jpg', 'train_healthy423.jpg', 'train_healthy53.jpg', 'train_healthy406.jpg', 'train_healthy185.jpg', 'train_healthy110.jpg', 'train_healthy8.jpg', 'train_healthy201.jpg', 'train_healthy449.jpg', 'train_healthy348.jpg', 'train_healthy420.jpg', 'train_healthy212.jpg', 'train_healthy433.jpg', 'train_healthy154.jpg', 'train_healthy236.jpg', 'train_healthy267.jpg', 'train_healthy88.jpg', 'train_healthy142.jpg', 'train_healthy132.jpg', 'train_healthy83.jpg', 'train_healthy122.jpg', 'train_healthy94.jpg', 'train_healthy255.jpg', 'train_healthy372.jpg', 'train_healthy131.jpg', 'train_healthy22.jpg', 'train_healthy65.jpg', 'train_healthy296.jpg', 'train_healthy370.jpg', 'train_healthy138.jpg', 'train_healthy403.jpg', 'train_healthy206.jpg', 'train_healthy175.jpg', 'train_healthy417.jpg', 'train_healthy187.jpg', 'train_healthy249.jpg', 'train_healthy137.jpg', 'train_healthy331.jpg', 'train_healthy189.jpg', 'train_healthy184.jpg', 'train_healthy431.jpg', 'train_healthy144.jpg', 'train_healthy91.jpg', 'train_healthy441.jpg', 'train_healthy260.jpg', 'train_healthy25.jpg', 'train_healthy326.jpg', 'train_healthy96.jpg', 'train_healthy143.jpg', 'train_healthy297.jpg', 'train_healthy61.jpg', 'train_healthy364.jpg', 'train_healthy51.jpg', 'train_healthy70.jpg', 'train_healthy188.jpg', 'train_healthy411.jpg', 'train_healthy286.jpg', 'train_healthy218.jpg', 'train_healthy345.jpg', 'train_healthy202.jpg', 'train_healthy204.jpg', 'train_healthy24.jpg', 'train_healthy97.jpg', 'train_healthy315.jpg', 'train_healthy7.jpg', 'train_healthy294.jpg', 'train_healthy230.jpg', 'train_healthy224.jpg', 'train_healthy257.jpg', 'train_healthy368.jpg', 'train_healthy288.jpg', 'train_healthy309.jpg', 'train_healthy446.jpg', 'train_healthy6.jpg', 'train_healthy438.jpg', 'train_healthy56.jpg', 'train_healthy40.jpg', 'train_healthy135.jpg', 'train_healthy330.jpg', 'train_healthy346.jpg', 'train_healthy123.jpg', 'train_healthy28.jpg', 'train_healthy439.jpg', 'train_healthy71.jpg', 'train_healthy69.jpg', 'train_healthy412.jpg', 'train_healthy192.jpg', 'train_healthy173.jpg', 'train_healthy151.jpg', 'train_healthy377.jpg', 'train_healthy113.jpg', 'train_healthy337.jpg', 'train_healthy146.jpg', 'train_healthy75.jpg', 'train_healthy226.jpg', 'train_healthy253.jpg', 'train_healthy227.jpg', 'train_healthy26.jpg', 'train_healthy275.jpg', 'train_healthy93.jpg', 'train_healthy373.jpg', 'train_healthy283.jpg', 'train_healthy361.jpg', 'train_healthy180.jpg', 'train_healthy37.jpg', 'train_healthy425.jpg', 'train_healthy422.jpg', 'train_healthy34.jpg', 'train_healthy210.jpg', 'train_healthy157.jpg', 'train_healthy235.jpg', 'train_healthy237.jpg', 'train_healthy407.jpg', 'train_healthy216.jpg', 'train_healthy304.jpg', 'train_healthy179.jpg', 'train_healthy195.jpg', 'train_healthy140.jpg', 'train_healthy394.jpg', 'train_healthy82.jpg', 'train_healthy269.jpg', 'train_healthy289.jpg', 'train_healthy205.jpg', 'train_healthy405.jpg', 'train_healthy440.jpg', 'train_healthy101.jpg', 'train_healthy54.jpg', 'train_healthy384.jpg', 'train_healthy86.jpg', 'train_healthy79.jpg', 'train_healthy238.jpg', 'train_healthy72.jpg', 'train_healthy213.jpg', 'train_healthy170.jpg', 'train_healthy395.jpg', 'train_healthy87.jpg', 'train_healthy414.jpg', 'train_healthy174.jpg', 'train_healthy59.jpg', 'train_healthy176.jpg', 'train_healthy279.jpg', 'train_healthy114.jpg', 'train_healthy111.jpg', 'train_healthy248.jpg', 'train_healthy392.jpg', 'train_healthy382.jpg', 'train_healthy4.jpg', 'train_healthy271.jpg', 'train_healthy435.jpg', 'train_healthy85.jpg', 'train_healthy365.jpg', 'train_healthy418.jpg', 'train_healthy39.jpg', 'train_healthy156.jpg', 'train_healthy323.jpg', 'train_healthy239.jpg', 'train_healthy161.jpg', 'train_healthy301.jpg', 'train_healthy44.jpg', 'train_healthy381.jpg', 'train_healthy220.jpg', 'train_healthy280.jpg', 'train_healthy166.jpg', 'train_healthy399.jpg', 'train_healthy349.jpg', 'train_healthy318.jpg', 'train_healthy68.jpg', 'train_healthy13.jpg', 'train_healthy116.jpg', 'train_healthy325.jpg', 'train_healthy261.jpg', 'train_healthy282.jpg', 'train_healthy43.jpg', 'train_healthy153.jpg', 'train_healthy434.jpg', 'train_healthy171.jpg', 'train_healthy259.jpg', 'train_healthy62.jpg', 'train_healthy121.jpg', 'train_healthy243.jpg', 'train_healthy359.jpg', 'train_healthy45.jpg', 'train_healthy120.jpg', 'train_healthy342.jpg', 'train_healthy17.jpg', 'train_healthy443.jpg', 'train_healthy266.jpg', 'train_healthy105.jpg', 'train_healthy46.jpg', 'train_healthy333.jpg', 'train_healthy396.jpg', 'train_healthy16.jpg', 'train_healthy27.jpg', 'train_healthy63.jpg', 'train_healthy317.jpg', 'train_healthy444.jpg', 'train_healthy386.jpg', 'train_healthy379.jpg', 'train_healthy347.jpg', 'train_healthy276.jpg', 'train_healthy198.jpg', 'train_healthy89.jpg', 'train_healthy186.jpg', 'train_healthy5.jpg', 'train_healthy246.jpg', 'train_healthy281.jpg', 'train_healthy109.jpg', 'train_healthy217.jpg', 'train_healthy284.jpg', 'train_healthy319.jpg', 'train_healthy258.jpg', 'train_healthy15.jpg', 'train_healthy242.jpg', 'train_healthy390.jpg', 'train_healthy167.jpg', 'train_healthy163.jpg', 'train_healthy117.jpg', 'train_healthy322.jpg', 'train_healthy416.jpg', 'train_healthy232.jpg', 'train_healthy310.jpg', 'train_healthy339.jpg', 'train_healthy268.jpg', 'train_healthy50.jpg', 'train_healthy287.jpg', 'train_healthy115.jpg', 'train_healthy300.jpg', 'train_healthy415.jpg', 'train_healthy18.jpg', 'train_healthy128.jpg', 'train_healthy419.jpg', 'train_healthy385.jpg', 'train_healthy32.jpg', 'train_healthy78.jpg', 'train_healthy410.jpg', 'train_healthy374.jpg', 'train_healthy252.jpg', 'train_healthy211.jpg', 'train_healthy299.jpg', 'train_healthy429.jpg', 'train_healthy354.jpg', 'train_healthy20.jpg', 'train_healthy312.jpg', 'train_healthy352.jpg', 'train_healthy99.jpg', 'train_healthy264.jpg', 'train_healthy311.jpg', 'train_healthy424.jpg', 'train_healthy250.jpg', 'train_healthy77.jpg', 'train_healthy119.jpg', 'train_healthy375.jpg', 'train_healthy306.jpg', 'train_healthy3.jpg', 'train_healthy193.jpg', 'train_healthy335.jpg', 'train_healthy391.jpg', 'train_healthy360.jpg', 'train_healthy95.jpg', 'train_healthy244.jpg', 'train_healthy371.jpg', 'train_healthy221.jpg', 'train_healthy340.jpg', 'train_healthy222.jpg', 'train_healthy228.jpg', 'train_healthy104.jpg', 'train_healthy183.jpg', 'train_healthy307.jpg', 'train_healthy103.jpg', 'train_healthy426.jpg', 'train_healthy383.jpg', 'train_healthy47.jpg', 'train_healthy74.jpg', 'train_healthy209.jpg', 'train_healthy369.jpg', 'train_healthy234.jpg', 'train_healthy432.jpg', 'train_healthy324.jpg', 'train_healthy21.jpg', 'train_healthy67.jpg', 'train_healthy329.jpg', 'train_healthy363.jpg', 'train_healthy90.jpg', 'train_healthy336.jpg', 'train_healthy332.jpg', 'train_healthy11.jpg', 'train_healthy158.jpg', 'train_healthy112.jpg', 'train_healthy351.jpg', 'train_healthy421.jpg', 'train_healthy147.jpg', 'train_healthy49.jpg', 'train_healthy219.jpg', 'train_healthy358.jpg', 'train_healthy350.jpg', 'train_healthy341.jpg', 'train_healthy293.jpg', 'train_healthy134.jpg', 'train_healthy272.jpg', 'train_healthy265.jpg', 'train_healthy57.jpg', 'train_healthy107.jpg', 'train_healthy215.jpg', 'train_healthy408.jpg', 'train_healthy270.jpg', 'train_healthy353.jpg', 'train_healthy214.jpg', 'train_healthy196.jpg', 'train_healthy223.jpg', 'train_healthy125.jpg', 'train_healthy80.jpg', 'train_healthy149.jpg', 'train_healthy401.jpg', 'train_healthy256.jpg', 'train_healthy404.jpg', 'train_healthy23.jpg', 'train_healthy200.jpg', 'train_healthy240.jpg', 'train_healthy190.jpg', 'train_healthy344.jpg', 'train_healthy316.jpg', 'train_healthy402.jpg', 'train_healthy10.jpg', 'train_healthy229.jpg', 'train_healthy106.jpg', 'train_healthy397.jpg', 'train_healthy305.jpg', 'train_healthy64.jpg', 'train_healthy328.jpg', 'train_healthy254.jpg', 'train_healthy413.jpg', 'train_healthy303.jpg', 'train_healthy33.jpg', 'train_healthy36.jpg', 'train_healthy118.jpg', 'train_healthy203.jpg', 'train_healthy357.jpg', 'train_healthy292.jpg', 'train_healthy169.jpg', 'train_healthy327.jpg', 'train_healthy291.jpg', 'train_healthy338.jpg', 'train_healthy376.jpg', 'train_healthy14.jpg', 'train_healthy152.jpg', 'train_healthy66.jpg', 'train_healthy73.jpg', 'train_healthy159.jpg', 'train_healthy290.jpg', 'train_healthy2.jpg', 'train_healthy241.jpg', 'train_healthy126.jpg', 'train_healthy35.jpg', 'train_healthy197.jpg', 'train_healthy334.jpg', 'train_healthy225.jpg', 'train_healthy274.jpg', 'train_healthy231.jpg', 'train_healthy136.jpg', 'train_healthy208.jpg', 'train_healthy129.jpg', 'train_healthy42.jpg', 'train_healthy150.jpg', 'train_healthy9.jpg', 'train_healthy160.jpg', 'train_healthy278.jpg', 'train_healthy393.jpg', 'train_healthy233.jpg', 'train_healthy76.jpg', 'train_healthy285.jpg', 'train_healthy409.jpg', 'train_healthy191.jpg', 'train_healthy108.jpg', 'train_healthy388.jpg', 'train_healthy380.jpg', 'train_healthy178.jpg', 'train_healthy313.jpg', 'train_healthy139.jpg', 'train_healthy436.jpg', 'train_healthy100.jpg', 'train_healthy378.jpg', 'train_healthy207.jpg', 'train_healthy445.jpg', 'train_healthy98.jpg', 'train_healthy295.jpg', 'train_healthy355.jpg', 'train_healthy194.jpg', 'train_healthy84.jpg', 'train_healthy427.jpg', 'train_healthy145.jpg', 'train_healthy447.jpg', 'train_healthy400.jpg', 'train_healthy124.jpg', 'train_healthy367.jpg', 'train_healthy450.jpg', 'train_healthy48.jpg', 'train_healthy302.jpg', 'train_healthy102.jpg', 'train_healthy298.jpg', 'train_healthy182.jpg', 'train_healthy398.jpg', 'train_healthy387.jpg', 'train_healthy38.jpg', 'train_healthy12.jpg', 'train_healthy181.jpg', 'train_healthy314.jpg', 'train_healthy1.jpg', 'train_healthy148.jpg', 'train_healthy263.jpg', 'train_healthy251.jpg', 'train_healthy162.jpg', 'train_healthy428.jpg']\n",
            "\n",
            "Contents of train/hispa directory: ['train_hispa143.jpg', 'train_hispa439.jpg', 'train_hispa21.jpg', 'train_hispa182.jpg', 'train_hispa18.jpg', 'train_hispa121.jpg', 'train_hispa217.jpg', 'train_hispa26.jpg', 'train_hispa132.jpg', 'train_hispa142.jpg', 'train_hispa27.jpg', 'train_hispa24.jpg', 'train_hispa358.jpg', 'train_hispa4.jpg', 'train_hispa181.jpg', 'train_hispa90.jpg', 'train_hispa73.jpg', 'train_hispa364.jpg', 'train_hispa397.jpg', 'train_hispa427.jpg', 'train_hispa214.jpg', 'train_hispa46.jpg', 'train_hispa199.jpg', 'train_hispa235.jpg', 'train_hispa153.jpg', 'train_hispa252.jpg', 'train_hispa211.jpg', 'train_hispa368.jpg', 'train_hispa179.jpg', 'train_hispa139.jpg', 'train_hispa345.jpg', 'train_hispa417.jpg', 'train_hispa87.jpg', 'train_hispa420.jpg', 'train_hispa200.jpg', 'train_hispa103.jpg', 'train_hispa84.jpg', 'train_hispa286.jpg', 'train_hispa372.jpg', 'train_hispa207.jpg', 'train_hispa166.jpg', 'train_hispa158.jpg', 'train_hispa86.jpg', 'train_hispa68.jpg', 'train_hispa436.jpg', 'train_hispa432.jpg', 'train_hispa51.jpg', 'train_hispa360.jpg', 'train_hispa295.jpg', 'train_hispa363.jpg', 'train_hispa321.jpg', 'train_hispa268.jpg', 'train_hispa173.jpg', 'train_hispa222.jpg', 'train_hispa421.jpg', 'train_hispa19.jpg', 'train_hispa174.jpg', 'train_hispa238.jpg', 'train_hispa161.jpg', 'train_hispa445.jpg', 'train_hispa332.jpg', 'train_hispa370.jpg', 'train_hispa34.jpg', 'train_hispa57.jpg', 'train_hispa196.jpg', 'train_hispa1.jpg', 'train_hispa130.jpg', 'train_hispa218.jpg', 'train_hispa352.jpg', 'train_hispa69.jpg', 'train_hispa15.jpg', 'train_hispa47.jpg', 'train_hispa37.jpg', 'train_hispa123.jpg', 'train_hispa423.jpg', 'train_hispa96.jpg', 'train_hispa146.jpg', 'train_hispa319.jpg', 'train_hispa342.jpg', 'train_hispa346.jpg', 'train_hispa45.jpg', 'train_hispa234.jpg', 'train_hispa299.jpg', 'train_hispa320.jpg', 'train_hispa136.jpg', 'train_hispa186.jpg', 'train_hispa367.jpg', 'train_hispa440.jpg', 'train_hispa327.jpg', 'train_hispa188.jpg', 'train_hispa232.jpg', 'train_hispa42.jpg', 'train_hispa79.jpg', 'train_hispa137.jpg', 'train_hispa313.jpg', 'train_hispa154.jpg', 'train_hispa257.jpg', 'train_hispa387.jpg', 'train_hispa129.jpg', 'train_hispa317.jpg', 'train_hispa310.jpg', 'train_hispa391.jpg', 'train_hispa442.jpg', 'train_hispa208.jpg', 'train_hispa393.jpg', 'train_hispa32.jpg', 'train_hispa250.jpg', 'train_hispa39.jpg', 'train_hispa78.jpg', 'train_hispa379.jpg', 'train_hispa172.jpg', 'train_hispa298.jpg', 'train_hispa413.jpg', 'train_hispa30.jpg', 'train_hispa38.jpg', 'train_hispa107.jpg', 'train_hispa175.jpg', 'train_hispa264.jpg', 'train_hispa448.jpg', 'train_hispa144.jpg', 'train_hispa290.jpg', 'train_hispa302.jpg', 'train_hispa227.jpg', 'train_hispa100.jpg', 'train_hispa382.jpg', 'train_hispa324.jpg', 'train_hispa169.jpg', 'train_hispa127.jpg', 'train_hispa117.jpg', 'train_hispa225.jpg', 'train_hispa347.jpg', 'train_hispa195.jpg', 'train_hispa52.jpg', 'train_hispa53.jpg', 'train_hispa70.jpg', 'train_hispa99.jpg', 'train_hispa350.jpg', 'train_hispa241.jpg', 'train_hispa297.jpg', 'train_hispa322.jpg', 'train_hispa28.jpg', 'train_hispa353.jpg', 'train_hispa120.jpg', 'train_hispa187.jpg', 'train_hispa13.jpg', 'train_hispa405.jpg', 'train_hispa81.jpg', 'train_hispa14.jpg', 'train_hispa263.jpg', 'train_hispa223.jpg', 'train_hispa167.jpg', 'train_hispa176.jpg', 'train_hispa203.jpg', 'train_hispa219.jpg', 'train_hispa216.jpg', 'train_hispa93.jpg', 'train_hispa253.jpg', 'train_hispa412.jpg', 'train_hispa178.jpg', 'train_hispa185.jpg', 'train_hispa272.jpg', 'train_hispa311.jpg', 'train_hispa113.jpg', 'train_hispa128.jpg', 'train_hispa134.jpg', 'train_hispa98.jpg', 'train_hispa259.jpg', 'train_hispa400.jpg', 'train_hispa193.jpg', 'train_hispa244.jpg', 'train_hispa44.jpg', 'train_hispa289.jpg', 'train_hispa201.jpg', 'train_hispa362.jpg', 'train_hispa380.jpg', 'train_hispa373.jpg', 'train_hispa88.jpg', 'train_hispa323.jpg', 'train_hispa248.jpg', 'train_hispa7.jpg', 'train_hispa149.jpg', 'train_hispa394.jpg', 'train_hispa330.jpg', 'train_hispa426.jpg', 'train_hispa89.jpg', 'train_hispa384.jpg', 'train_hispa284.jpg', 'train_hispa316.jpg', 'train_hispa254.jpg', 'train_hispa177.jpg', 'train_hispa66.jpg', 'train_hispa209.jpg', 'train_hispa443.jpg', 'train_hispa336.jpg', 'train_hispa269.jpg', 'train_hispa231.jpg', 'train_hispa411.jpg', 'train_hispa247.jpg', 'train_hispa204.jpg', 'train_hispa71.jpg', 'train_hispa444.jpg', 'train_hispa240.jpg', 'train_hispa333.jpg', 'train_hispa215.jpg', 'train_hispa205.jpg', 'train_hispa279.jpg', 'train_hispa91.jpg', 'train_hispa229.jpg', 'train_hispa349.jpg', 'train_hispa403.jpg', 'train_hispa251.jpg', 'train_hispa273.jpg', 'train_hispa242.jpg', 'train_hispa12.jpg', 'train_hispa422.jpg', 'train_hispa338.jpg', 'train_hispa49.jpg', 'train_hispa135.jpg', 'train_hispa108.jpg', 'train_hispa41.jpg', 'train_hispa285.jpg', 'train_hispa233.jpg', 'train_hispa33.jpg', 'train_hispa62.jpg', 'train_hispa260.jpg', 'train_hispa377.jpg', 'train_hispa369.jpg', 'train_hispa228.jpg', 'train_hispa339.jpg', 'train_hispa184.jpg', 'train_hispa230.jpg', 'train_hispa294.jpg', 'train_hispa162.jpg', 'train_hispa155.jpg', 'train_hispa75.jpg', 'train_hispa122.jpg', 'train_hispa409.jpg', 'train_hispa359.jpg', 'train_hispa401.jpg', 'train_hispa243.jpg', 'train_hispa404.jpg', 'train_hispa385.jpg', 'train_hispa281.jpg', 'train_hispa104.jpg', 'train_hispa392.jpg', 'train_hispa288.jpg', 'train_hispa270.jpg', 'train_hispa408.jpg', 'train_hispa428.jpg', 'train_hispa309.jpg', 'train_hispa265.jpg', 'train_hispa56.jpg', 'train_hispa266.jpg', 'train_hispa433.jpg', 'train_hispa450.jpg', 'train_hispa133.jpg', 'train_hispa116.jpg', 'train_hispa296.jpg', 'train_hispa145.jpg', 'train_hispa386.jpg', 'train_hispa341.jpg', 'train_hispa64.jpg', 'train_hispa388.jpg', 'train_hispa102.jpg', 'train_hispa283.jpg', 'train_hispa414.jpg', 'train_hispa374.jpg', 'train_hispa160.jpg', 'train_hispa293.jpg', 'train_hispa383.jpg', 'train_hispa170.jpg', 'train_hispa31.jpg', 'train_hispa441.jpg', 'train_hispa54.jpg', 'train_hispa308.jpg', 'train_hispa194.jpg', 'train_hispa202.jpg', 'train_hispa138.jpg', 'train_hispa159.jpg', 'train_hispa354.jpg', 'train_hispa213.jpg', 'train_hispa239.jpg', 'train_hispa58.jpg', 'train_hispa9.jpg', 'train_hispa305.jpg', 'train_hispa378.jpg', 'train_hispa304.jpg', 'train_hispa375.jpg', 'train_hispa191.jpg', 'train_hispa271.jpg', 'train_hispa74.jpg', 'train_hispa334.jpg', 'train_hispa306.jpg', 'train_hispa110.jpg', 'train_hispa410.jpg', 'train_hispa2.jpg', 'train_hispa48.jpg', 'train_hispa255.jpg', 'train_hispa276.jpg', 'train_hispa5.jpg', 'train_hispa246.jpg', 'train_hispa365.jpg', 'train_hispa60.jpg', 'train_hispa236.jpg', 'train_hispa105.jpg', 'train_hispa343.jpg', 'train_hispa124.jpg', 'train_hispa376.jpg', 'train_hispa435.jpg', 'train_hispa148.jpg', 'train_hispa300.jpg', 'train_hispa77.jpg', 'train_hispa141.jpg', 'train_hispa328.jpg', 'train_hispa438.jpg', 'train_hispa189.jpg', 'train_hispa326.jpg', 'train_hispa118.jpg', 'train_hispa206.jpg', 'train_hispa6.jpg', 'train_hispa150.jpg', 'train_hispa429.jpg', 'train_hispa50.jpg', 'train_hispa340.jpg', 'train_hispa92.jpg', 'train_hispa292.jpg', 'train_hispa446.jpg', 'train_hispa274.jpg', 'train_hispa147.jpg', 'train_hispa381.jpg', 'train_hispa119.jpg', 'train_hispa17.jpg', 'train_hispa55.jpg', 'train_hispa249.jpg', 'train_hispa180.jpg', 'train_hispa331.jpg', 'train_hispa356.jpg', 'train_hispa399.jpg', 'train_hispa416.jpg', 'train_hispa156.jpg', 'train_hispa63.jpg', 'train_hispa348.jpg', 'train_hispa434.jpg', 'train_hispa131.jpg', 'train_hispa277.jpg', 'train_hispa406.jpg', 'train_hispa11.jpg', 'train_hispa303.jpg', 'train_hispa221.jpg', 'train_hispa109.jpg', 'train_hispa315.jpg', 'train_hispa114.jpg', 'train_hispa151.jpg', 'train_hispa366.jpg', 'train_hispa220.jpg', 'train_hispa278.jpg', 'train_hispa29.jpg', 'train_hispa256.jpg', 'train_hispa357.jpg', 'train_hispa164.jpg', 'train_hispa212.jpg', 'train_hispa97.jpg', 'train_hispa282.jpg', 'train_hispa280.jpg', 'train_hispa237.jpg', 'train_hispa449.jpg', 'train_hispa72.jpg', 'train_hispa83.jpg', 'train_hispa415.jpg', 'train_hispa402.jpg', 'train_hispa163.jpg', 'train_hispa258.jpg', 'train_hispa396.jpg', 'train_hispa140.jpg', 'train_hispa157.jpg', 'train_hispa287.jpg', 'train_hispa262.jpg', 'train_hispa291.jpg', 'train_hispa398.jpg', 'train_hispa125.jpg', 'train_hispa389.jpg', 'train_hispa8.jpg', 'train_hispa165.jpg', 'train_hispa371.jpg', 'train_hispa20.jpg', 'train_hispa65.jpg', 'train_hispa25.jpg', 'train_hispa35.jpg', 'train_hispa335.jpg', 'train_hispa425.jpg', 'train_hispa183.jpg', 'train_hispa314.jpg', 'train_hispa95.jpg', 'train_hispa171.jpg', 'train_hispa390.jpg', 'train_hispa67.jpg', 'train_hispa424.jpg', 'train_hispa419.jpg', 'train_hispa61.jpg', 'train_hispa430.jpg', 'train_hispa245.jpg', 'train_hispa275.jpg', 'train_hispa111.jpg', 'train_hispa152.jpg', 'train_hispa43.jpg', 'train_hispa22.jpg', 'train_hispa168.jpg', 'train_hispa192.jpg', 'train_hispa210.jpg', 'train_hispa395.jpg', 'train_hispa344.jpg', 'train_hispa198.jpg', 'train_hispa261.jpg', 'train_hispa431.jpg', 'train_hispa10.jpg', 'train_hispa267.jpg', 'train_hispa318.jpg', 'train_hispa325.jpg', 'train_hispa59.jpg', 'train_hispa126.jpg', 'train_hispa3.jpg', 'train_hispa76.jpg', 'train_hispa224.jpg', 'train_hispa197.jpg', 'train_hispa418.jpg', 'train_hispa80.jpg', 'train_hispa82.jpg', 'train_hispa301.jpg', 'train_hispa85.jpg', 'train_hispa407.jpg', 'train_hispa106.jpg', 'train_hispa329.jpg', 'train_hispa447.jpg', 'train_hispa337.jpg', 'train_hispa36.jpg', 'train_hispa112.jpg', 'train_hispa16.jpg', 'train_hispa101.jpg', 'train_hispa115.jpg', 'train_hispa190.jpg', 'train_hispa351.jpg', 'train_hispa23.jpg', 'train_hispa226.jpg', 'train_hispa355.jpg', 'train_hispa437.jpg', 'train_hispa307.jpg', 'train_hispa361.jpg', 'train_hispa94.jpg', 'train_hispa40.jpg', 'train_hispa312.jpg']\n",
            "\n",
            "Contents of train/leafblast directory: ['train_leafblast138.jpg', 'train_leafblast147.jpg', 'train_leafblast7.jpg', 'train_leafblast324.jpg', 'train_leafblast110.jpg', 'train_leafblast24.jpg', 'train_leafblast133.jpg', 'train_leafblast162.jpg', 'train_leafblast113.jpg', 'train_leafblast253.jpg', 'train_leafblast41.jpg', 'train_leafblast434.jpg', 'train_leafblast334.jpg', 'train_leafblast69.jpg', 'train_leafblast362.jpg', 'train_leafblast108.jpg', 'train_leafblast225.jpg', 'train_leafblast246.jpg', 'train_leafblast164.jpg', 'train_leafblast440.jpg', 'train_leafblast86.jpg', 'train_leafblast183.jpg', 'train_leafblast337.jpg', 'train_leafblast397.jpg', 'train_leafblast11.jpg', 'train_leafblast368.jpg', 'train_leafblast99.jpg', 'train_leafblast429.jpg', 'train_leafblast282.jpg', 'train_leafblast432.jpg', 'train_leafblast372.jpg', 'train_leafblast328.jpg', 'train_leafblast47.jpg', 'train_leafblast333.jpg', 'train_leafblast391.jpg', 'train_leafblast344.jpg', 'train_leafblast210.jpg', 'train_leafblast31.jpg', 'train_leafblast410.jpg', 'train_leafblast106.jpg', 'train_leafblast163.jpg', 'train_leafblast124.jpg', 'train_leafblast272.jpg', 'train_leafblast91.jpg', 'train_leafblast279.jpg', 'train_leafblast357.jpg', 'train_leafblast116.jpg', 'train_leafblast361.jpg', 'train_leafblast1.jpg', 'train_leafblast326.jpg', 'train_leafblast233.jpg', 'train_leafblast166.jpg', 'train_leafblast208.jpg', 'train_leafblast87.jpg', 'train_leafblast200.jpg', 'train_leafblast271.jpg', 'train_leafblast145.jpg', 'train_leafblast84.jpg', 'train_leafblast88.jpg', 'train_leafblast32.jpg', 'train_leafblast109.jpg', 'train_leafblast229.jpg', 'train_leafblast449.jpg', 'train_leafblast226.jpg', 'train_leafblast222.jpg', 'train_leafblast67.jpg', 'train_leafblast248.jpg', 'train_leafblast257.jpg', 'train_leafblast136.jpg', 'train_leafblast202.jpg', 'train_leafblast388.jpg', 'train_leafblast146.jpg', 'train_leafblast34.jpg', 'train_leafblast127.jpg', 'train_leafblast294.jpg', 'train_leafblast71.jpg', 'train_leafblast426.jpg', 'train_leafblast27.jpg', 'train_leafblast260.jpg', 'train_leafblast300.jpg', 'train_leafblast52.jpg', 'train_leafblast287.jpg', 'train_leafblast4.jpg', 'train_leafblast201.jpg', 'train_leafblast240.jpg', 'train_leafblast399.jpg', 'train_leafblast278.jpg', 'train_leafblast348.jpg', 'train_leafblast277.jpg', 'train_leafblast366.jpg', 'train_leafblast78.jpg', 'train_leafblast194.jpg', 'train_leafblast393.jpg', 'train_leafblast275.jpg', 'train_leafblast149.jpg', 'train_leafblast238.jpg', 'train_leafblast309.jpg', 'train_leafblast227.jpg', 'train_leafblast377.jpg', 'train_leafblast187.jpg', 'train_leafblast418.jpg', 'train_leafblast441.jpg', 'train_leafblast291.jpg', 'train_leafblast72.jpg', 'train_leafblast118.jpg', 'train_leafblast111.jpg', 'train_leafblast8.jpg', 'train_leafblast293.jpg', 'train_leafblast94.jpg', 'train_leafblast421.jpg', 'train_leafblast154.jpg', 'train_leafblast209.jpg', 'train_leafblast316.jpg', 'train_leafblast262.jpg', 'train_leafblast401.jpg', 'train_leafblast255.jpg', 'train_leafblast280.jpg', 'train_leafblast76.jpg', 'train_leafblast48.jpg', 'train_leafblast30.jpg', 'train_leafblast247.jpg', 'train_leafblast389.jpg', 'train_leafblast135.jpg', 'train_leafblast212.jpg', 'train_leafblast398.jpg', 'train_leafblast219.jpg', 'train_leafblast9.jpg', 'train_leafblast81.jpg', 'train_leafblast173.jpg', 'train_leafblast430.jpg', 'train_leafblast117.jpg', 'train_leafblast21.jpg', 'train_leafblast195.jpg', 'train_leafblast254.jpg', 'train_leafblast303.jpg', 'train_leafblast380.jpg', 'train_leafblast301.jpg', 'train_leafblast142.jpg', 'train_leafblast256.jpg', 'train_leafblast296.jpg', 'train_leafblast203.jpg', 'train_leafblast289.jpg', 'train_leafblast158.jpg', 'train_leafblast239.jpg', 'train_leafblast74.jpg', 'train_leafblast36.jpg', 'train_leafblast54.jpg', 'train_leafblast261.jpg', 'train_leafblast386.jpg', 'train_leafblast73.jpg', 'train_leafblast170.jpg', 'train_leafblast307.jpg', 'train_leafblast265.jpg', 'train_leafblast228.jpg', 'train_leafblast157.jpg', 'train_leafblast383.jpg', 'train_leafblast60.jpg', 'train_leafblast286.jpg', 'train_leafblast370.jpg', 'train_leafblast62.jpg', 'train_leafblast252.jpg', 'train_leafblast44.jpg', 'train_leafblast148.jpg', 'train_leafblast290.jpg', 'train_leafblast425.jpg', 'train_leafblast18.jpg', 'train_leafblast236.jpg', 'train_leafblast250.jpg', 'train_leafblast196.jpg', 'train_leafblast182.jpg', 'train_leafblast65.jpg', 'train_leafblast181.jpg', 'train_leafblast232.jpg', 'train_leafblast165.jpg', 'train_leafblast339.jpg', 'train_leafblast322.jpg', 'train_leafblast442.jpg', 'train_leafblast172.jpg', 'train_leafblast415.jpg', 'train_leafblast207.jpg', 'train_leafblast315.jpg', 'train_leafblast354.jpg', 'train_leafblast445.jpg', 'train_leafblast329.jpg', 'train_leafblast384.jpg', 'train_leafblast42.jpg', 'train_leafblast367.jpg', 'train_leafblast102.jpg', 'train_leafblast156.jpg', 'train_leafblast306.jpg', 'train_leafblast40.jpg', 'train_leafblast285.jpg', 'train_leafblast237.jpg', 'train_leafblast365.jpg', 'train_leafblast412.jpg', 'train_leafblast338.jpg', 'train_leafblast355.jpg', 'train_leafblast143.jpg', 'train_leafblast205.jpg', 'train_leafblast340.jpg', 'train_leafblast400.jpg', 'train_leafblast327.jpg', 'train_leafblast13.jpg', 'train_leafblast80.jpg', 'train_leafblast276.jpg', 'train_leafblast213.jpg', 'train_leafblast325.jpg', 'train_leafblast70.jpg', 'train_leafblast56.jpg', 'train_leafblast66.jpg', 'train_leafblast310.jpg', 'train_leafblast258.jpg', 'train_leafblast160.jpg', 'train_leafblast297.jpg', 'train_leafblast174.jpg', 'train_leafblast186.jpg', 'train_leafblast424.jpg', 'train_leafblast371.jpg', 'train_leafblast341.jpg', 'train_leafblast189.jpg', 'train_leafblast406.jpg', 'train_leafblast363.jpg', 'train_leafblast330.jpg', 'train_leafblast150.jpg', 'train_leafblast437.jpg', 'train_leafblast14.jpg', 'train_leafblast77.jpg', 'train_leafblast394.jpg', 'train_leafblast390.jpg', 'train_leafblast317.jpg', 'train_leafblast349.jpg', 'train_leafblast211.jpg', 'train_leafblast313.jpg', 'train_leafblast131.jpg', 'train_leafblast63.jpg', 'train_leafblast185.jpg', 'train_leafblast374.jpg', 'train_leafblast5.jpg', 'train_leafblast152.jpg', 'train_leafblast12.jpg', 'train_leafblast6.jpg', 'train_leafblast345.jpg', 'train_leafblast403.jpg', 'train_leafblast122.jpg', 'train_leafblast288.jpg', 'train_leafblast141.jpg', 'train_leafblast221.jpg', 'train_leafblast15.jpg', 'train_leafblast419.jpg', 'train_leafblast320.jpg', 'train_leafblast132.jpg', 'train_leafblast343.jpg', 'train_leafblast112.jpg', 'train_leafblast431.jpg', 'train_leafblast177.jpg', 'train_leafblast402.jpg', 'train_leafblast197.jpg', 'train_leafblast167.jpg', 'train_leafblast176.jpg', 'train_leafblast435.jpg', 'train_leafblast447.jpg', 'train_leafblast336.jpg', 'train_leafblast245.jpg', 'train_leafblast251.jpg', 'train_leafblast214.jpg', 'train_leafblast159.jpg', 'train_leafblast115.jpg', 'train_leafblast249.jpg', 'train_leafblast350.jpg', 'train_leafblast392.jpg', 'train_leafblast57.jpg', 'train_leafblast114.jpg', 'train_leafblast169.jpg', 'train_leafblast378.jpg', 'train_leafblast411.jpg', 'train_leafblast332.jpg', 'train_leafblast312.jpg', 'train_leafblast356.jpg', 'train_leafblast79.jpg', 'train_leafblast281.jpg', 'train_leafblast190.jpg', 'train_leafblast123.jpg', 'train_leafblast283.jpg', 'train_leafblast121.jpg', 'train_leafblast428.jpg', 'train_leafblast244.jpg', 'train_leafblast331.jpg', 'train_leafblast129.jpg', 'train_leafblast427.jpg', 'train_leafblast140.jpg', 'train_leafblast103.jpg', 'train_leafblast387.jpg', 'train_leafblast242.jpg', 'train_leafblast299.jpg', 'train_leafblast38.jpg', 'train_leafblast17.jpg', 'train_leafblast319.jpg', 'train_leafblast3.jpg', 'train_leafblast347.jpg', 'train_leafblast217.jpg', 'train_leafblast192.jpg', 'train_leafblast268.jpg', 'train_leafblast168.jpg', 'train_leafblast90.jpg', 'train_leafblast85.jpg', 'train_leafblast413.jpg', 'train_leafblast369.jpg', 'train_leafblast206.jpg', 'train_leafblast215.jpg', 'train_leafblast199.jpg', 'train_leafblast119.jpg', 'train_leafblast216.jpg', 'train_leafblast198.jpg', 'train_leafblast128.jpg', 'train_leafblast230.jpg', 'train_leafblast420.jpg', 'train_leafblast161.jpg', 'train_leafblast304.jpg', 'train_leafblast270.jpg', 'train_leafblast68.jpg', 'train_leafblast373.jpg', 'train_leafblast59.jpg', 'train_leafblast64.jpg', 'train_leafblast274.jpg', 'train_leafblast416.jpg', 'train_leafblast376.jpg', 'train_leafblast191.jpg', 'train_leafblast395.jpg', 'train_leafblast335.jpg', 'train_leafblast444.jpg', 'train_leafblast267.jpg', 'train_leafblast19.jpg', 'train_leafblast223.jpg', 'train_leafblast58.jpg', 'train_leafblast409.jpg', 'train_leafblast155.jpg', 'train_leafblast61.jpg', 'train_leafblast314.jpg', 'train_leafblast352.jpg', 'train_leafblast37.jpg', 'train_leafblast2.jpg', 'train_leafblast351.jpg', 'train_leafblast385.jpg', 'train_leafblast346.jpg', 'train_leafblast35.jpg', 'train_leafblast235.jpg', 'train_leafblast218.jpg', 'train_leafblast93.jpg', 'train_leafblast407.jpg', 'train_leafblast89.jpg', 'train_leafblast188.jpg', 'train_leafblast26.jpg', 'train_leafblast318.jpg', 'train_leafblast92.jpg', 'train_leafblast153.jpg', 'train_leafblast423.jpg', 'train_leafblast139.jpg', 'train_leafblast75.jpg', 'train_leafblast302.jpg', 'train_leafblast46.jpg', 'train_leafblast234.jpg', 'train_leafblast10.jpg', 'train_leafblast180.jpg', 'train_leafblast273.jpg', 'train_leafblast43.jpg', 'train_leafblast433.jpg', 'train_leafblast266.jpg', 'train_leafblast358.jpg', 'train_leafblast342.jpg', 'train_leafblast20.jpg', 'train_leafblast193.jpg', 'train_leafblast82.jpg', 'train_leafblast104.jpg', 'train_leafblast263.jpg', 'train_leafblast23.jpg', 'train_leafblast295.jpg', 'train_leafblast55.jpg', 'train_leafblast53.jpg', 'train_leafblast39.jpg', 'train_leafblast25.jpg', 'train_leafblast16.jpg', 'train_leafblast126.jpg', 'train_leafblast292.jpg', 'train_leafblast49.jpg', 'train_leafblast422.jpg', 'train_leafblast448.jpg', 'train_leafblast243.jpg', 'train_leafblast408.jpg', 'train_leafblast171.jpg', 'train_leafblast144.jpg', 'train_leafblast359.jpg', 'train_leafblast241.jpg', 'train_leafblast360.jpg', 'train_leafblast381.jpg', 'train_leafblast22.jpg', 'train_leafblast259.jpg', 'train_leafblast29.jpg', 'train_leafblast311.jpg', 'train_leafblast130.jpg', 'train_leafblast151.jpg', 'train_leafblast175.jpg', 'train_leafblast137.jpg', 'train_leafblast120.jpg', 'train_leafblast284.jpg', 'train_leafblast405.jpg', 'train_leafblast264.jpg', 'train_leafblast179.jpg', 'train_leafblast98.jpg', 'train_leafblast220.jpg', 'train_leafblast379.jpg', 'train_leafblast353.jpg', 'train_leafblast269.jpg', 'train_leafblast134.jpg', 'train_leafblast231.jpg', 'train_leafblast97.jpg', 'train_leafblast83.jpg', 'train_leafblast446.jpg', 'train_leafblast308.jpg', 'train_leafblast224.jpg', 'train_leafblast125.jpg', 'train_leafblast321.jpg', 'train_leafblast105.jpg', 'train_leafblast184.jpg', 'train_leafblast28.jpg', 'train_leafblast450.jpg', 'train_leafblast298.jpg', 'train_leafblast51.jpg', 'train_leafblast204.jpg', 'train_leafblast305.jpg', 'train_leafblast101.jpg', 'train_leafblast100.jpg', 'train_leafblast417.jpg', 'train_leafblast96.jpg', 'train_leafblast50.jpg', 'train_leafblast443.jpg', 'train_leafblast33.jpg', 'train_leafblast414.jpg', 'train_leafblast382.jpg', 'train_leafblast439.jpg', 'train_leafblast404.jpg', 'train_leafblast364.jpg', 'train_leafblast107.jpg', 'train_leafblast178.jpg', 'train_leafblast396.jpg', 'train_leafblast375.jpg', 'train_leafblast323.jpg', 'train_leafblast45.jpg', 'train_leafblast438.jpg', 'train_leafblast95.jpg', 'train_leafblast436.jpg']\n",
            "\n",
            "Contents of validation/brownspot directory: ['validation_brownspot10.jpg', 'validation_brownspot15.jpg', 'validation_brownspot25.jpg', 'validation_brownspot57.jpg', 'validation_brownspot2.jpg', 'validation_brownspot31.jpg', 'validation_brownspot4.jpg', 'validation_brownspot7.jpg', 'validation_brownspot98.jpg', 'validation_brownspot29.jpg', 'validation_brownspot63.jpg', 'validation_brownspot61.jpg', 'validation_brownspot79.jpg', 'validation_brownspot96.jpg', 'validation_brownspot77.jpg', 'validation_brownspot83.jpg', 'validation_brownspot22.jpg', 'validation_brownspot24.jpg', 'validation_brownspot23.jpg', 'validation_brownspot107.JPG', 'validation_brownspot33.jpg', 'validation_brownspot11.jpg', 'validation_brownspot43.jpg', 'validation_brownspot8.jpg', 'validation_brownspot95.jpg', 'validation_brownspot28.jpg', 'validation_brownspot56.jpg', 'validation_brownspot86.jpg', 'validation_brownspot100.jpg', 'validation_brownspot66.jpg', 'validation_brownspot49.jpg', 'validation_brownspot73.jpg', 'validation_brownspot21.jpg', 'validation_brownspot60.jpg', 'validation_brownspot39.jpg', 'validation_brownspot12.jpg', 'validation_brownspot36.jpg', 'validation_brownspot46.jpg', 'validation_brownspot59.jpg', 'validation_brownspot55.jpg', 'validation_brownspot54.jpg', 'validation_brownspot88.jpg', 'validation_brownspot113.JPG', 'validation_brownspot5.jpg', 'validation_brownspot91.jpg', 'validation_brownspot97.jpg', 'validation_brownspot27.jpg', 'validation_brownspot76.jpg', 'validation_brownspot35.jpg', 'validation_brownspot47.jpg', 'validation_brownspot110.JPG', 'validation_brownspot101.jpg', 'validation_brownspot84.jpg', 'validation_brownspot6.jpg', 'validation_brownspot18.jpg', 'validation_brownspot94.jpg', 'validation_brownspot108.JPG', 'validation_brownspot45.jpg', 'validation_brownspot20.jpg', 'validation_brownspot112.JPG', 'validation_brownspot16.jpg', 'validation_brownspot41.jpg', 'validation_brownspot70.jpg', 'validation_brownspot93.jpg', 'validation_brownspot69.jpg', 'validation_brownspot92.jpg', 'validation_brownspot17.jpg', 'validation_brownspot30.jpg', 'validation_brownspot109.JPG', 'validation_brownspot9.jpg', 'validation_brownspot52.jpg', 'validation_brownspot50.jpg', 'validation_brownspot44.jpg', 'validation_brownspot72.jpg', 'validation_brownspot75.jpg', 'validation_brownspot105.jpg', 'validation_brownspot106.JPG', 'validation_brownspot51.jpg', 'validation_brownspot74.jpg', 'validation_brownspot26.jpg', 'validation_brownspot58.jpg', 'validation_brownspot19.jpg', 'validation_brownspot78.jpg', 'validation_brownspot89.jpg', 'validation_brownspot71.jpg', 'validation_brownspot99.jpg', 'validation_brownspot82.jpg', 'validation_brownspot42.jpg', 'validation_brownspot104.jpg', 'validation_brownspot38.jpg', 'validation_brownspot102.jpg', 'validation_brownspot65.jpg', 'validation_brownspot85.jpg', 'validation_brownspot90.jpg', 'validation_brownspot111.JPG', 'validation_brownspot34.jpg', 'validation_brownspot40.jpg', 'validation_brownspot48.jpg', 'validation_brownspot64.jpg', 'validation_brownspot80.jpg', 'validation_brownspot81.jpg', 'validation_brownspot32.jpg', 'validation_brownspot14.jpg', 'validation_brownspot62.jpg', 'validation_brownspot13.jpg', 'validation_brownspot3.jpg', 'validation_brownspot87.jpg', 'validation_brownspot1.jpg', 'validation_brownspot103.jpg', 'validation_brownspot68.jpg', 'validation_brownspot53.jpg', 'validation_brownspot37.jpg', 'validation_brownspot67.jpg']\n",
            "\n",
            "Contents of validation/healthy directory: ['validation_healthy72.jpg', 'validation_healthy21.jpg', 'validation_healthy78.jpg', 'validation_healthy113.jpg', 'validation_healthy92.jpg', 'validation_healthy14.jpg', 'validation_healthy105.jpg', 'validation_healthy3.jpg', 'validation_healthy104.jpg', 'validation_healthy70.jpg', 'validation_healthy91.jpg', 'validation_healthy102.jpg', 'validation_healthy86.jpg', 'validation_healthy60.jpg', 'validation_healthy53.jpg', 'validation_healthy6.jpg', 'validation_healthy73.jpg', 'validation_healthy7.jpg', 'validation_healthy87.jpg', 'validation_healthy112.jpg', 'validation_healthy67.jpg', 'validation_healthy37.jpg', 'validation_healthy47.jpg', 'validation_healthy50.jpg', 'validation_healthy95.jpg', 'validation_healthy63.jpg', 'validation_healthy2.jpg', 'validation_healthy90.jpg', 'validation_healthy109.jpg', 'validation_healthy51.jpg', 'validation_healthy28.jpg', 'validation_healthy106.jpg', 'validation_healthy49.jpg', 'validation_healthy68.jpg', 'validation_healthy59.jpg', 'validation_healthy55.jpg', 'validation_healthy69.jpg', 'validation_healthy30.jpg', 'validation_healthy88.jpg', 'validation_healthy1.jpg', 'validation_healthy5.jpg', 'validation_healthy23.jpg', 'validation_healthy26.jpg', 'validation_healthy101.jpg', 'validation_healthy66.jpg', 'validation_healthy44.jpg', 'validation_healthy77.jpg', 'validation_healthy39.jpg', 'validation_healthy96.jpg', 'validation_healthy52.jpg', 'validation_healthy31.jpg', 'validation_healthy15.jpg', 'validation_healthy4.jpg', 'validation_healthy82.jpg', 'validation_healthy29.jpg', 'validation_healthy27.jpg', 'validation_healthy80.jpg', 'validation_healthy57.jpg', 'validation_healthy61.jpg', 'validation_healthy100.jpg', 'validation_healthy19.jpg', 'validation_healthy110.jpg', 'validation_healthy89.jpg', 'validation_healthy34.jpg', 'validation_healthy58.jpg', 'validation_healthy10.jpg', 'validation_healthy64.jpg', 'validation_healthy22.jpg', 'validation_healthy94.jpg', 'validation_healthy42.jpg', 'validation_healthy8.jpg', 'validation_healthy32.jpg', 'validation_healthy76.jpg', 'validation_healthy108.jpg', 'validation_healthy65.jpg', 'validation_healthy16.jpg', 'validation_healthy18.jpg', 'validation_healthy97.jpg', 'validation_healthy41.jpg', 'validation_healthy25.jpg', 'validation_healthy103.jpg', 'validation_healthy17.jpg', 'validation_healthy38.jpg', 'validation_healthy13.jpg', 'validation_healthy79.jpg', 'validation_healthy36.jpg', 'validation_healthy93.jpg', 'validation_healthy12.jpg', 'validation_healthy43.jpg', 'validation_healthy84.jpg', 'validation_healthy40.jpg', 'validation_healthy46.jpg', 'validation_healthy35.jpg', 'validation_healthy56.jpg', 'validation_healthy45.jpg', 'validation_healthy71.jpg', 'validation_healthy11.jpg', 'validation_healthy24.jpg', 'validation_healthy74.jpg', 'validation_healthy83.jpg', 'validation_healthy107.jpg', 'validation_healthy9.jpg', 'validation_healthy54.jpg', 'validation_healthy75.jpg', 'validation_healthy81.jpg', 'validation_healthy98.jpg', 'validation_healthy33.jpg', 'validation_healthy99.jpg', 'validation_healthy20.jpg', 'validation_healthy48.jpg', 'validation_healthy62.jpg', 'validation_healthy111.jpg', 'validation_healthy85.jpg']\n",
            "\n",
            "Contents of validation/hispa directory: ['validation_hispa42.jpg', 'validation_hispa39.jpg', 'validation_hispa105.jpg', 'validation_hispa96.jpg', 'validation_hispa20.jpg', 'validation_hispa83.jpg', 'validation_hispa53.jpg', 'validation_hispa78.jpg', 'validation_hispa68.jpg', 'validation_hispa34.jpg', 'validation_hispa10.jpg', 'validation_hispa91.jpg', 'validation_hispa67.jpg', 'validation_hispa79.jpg', 'validation_hispa6.jpg', 'validation_hispa109.jpg', 'validation_hispa62.jpg', 'validation_hispa14.jpg', 'validation_hispa71.jpg', 'validation_hispa69.jpg', 'validation_hispa49.jpg', 'validation_hispa40.jpg', 'validation_hispa17.jpg', 'validation_hispa113.jpg', 'validation_hispa55.jpg', 'validation_hispa8.jpg', 'validation_hispa30.jpg', 'validation_hispa33.jpg', 'validation_hispa108.jpg', 'validation_hispa22.jpg', 'validation_hispa38.jpg', 'validation_hispa88.jpg', 'validation_hispa85.jpg', 'validation_hispa19.jpg', 'validation_hispa11.jpg', 'validation_hispa24.jpg', 'validation_hispa12.jpg', 'validation_hispa4.jpg', 'validation_hispa80.jpg', 'validation_hispa31.jpg', 'validation_hispa59.jpg', 'validation_hispa36.jpg', 'validation_hispa27.jpg', 'validation_hispa15.jpg', 'validation_hispa98.jpg', 'validation_hispa60.jpg', 'validation_hispa56.jpg', 'validation_hispa54.jpg', 'validation_hispa51.jpg', 'validation_hispa35.jpg', 'validation_hispa45.jpg', 'validation_hispa86.jpg', 'validation_hispa82.jpg', 'validation_hispa58.jpg', 'validation_hispa104.jpg', 'validation_hispa44.jpg', 'validation_hispa1.jpg', 'validation_hispa89.jpg', 'validation_hispa57.jpg', 'validation_hispa97.jpg', 'validation_hispa52.jpg', 'validation_hispa26.jpg', 'validation_hispa61.jpg', 'validation_hispa106.jpg', 'validation_hispa16.jpg', 'validation_hispa100.jpg', 'validation_hispa47.jpg', 'validation_hispa25.jpg', 'validation_hispa23.jpg', 'validation_hispa93.jpg', 'validation_hispa29.jpg', 'validation_hispa37.jpg', 'validation_hispa111.jpg', 'validation_hispa7.jpg', 'validation_hispa5.jpg', 'validation_hispa65.jpg', 'validation_hispa74.jpg', 'validation_hispa43.jpg', 'validation_hispa99.jpg', 'validation_hispa48.jpg', 'validation_hispa50.jpg', 'validation_hispa87.jpg', 'validation_hispa41.jpg', 'validation_hispa94.jpg', 'validation_hispa13.jpg', 'validation_hispa46.jpg', 'validation_hispa32.jpg', 'validation_hispa75.jpg', 'validation_hispa9.jpg', 'validation_hispa76.jpg', 'validation_hispa110.jpg', 'validation_hispa21.jpg', 'validation_hispa70.jpg', 'validation_hispa73.jpg', 'validation_hispa107.jpg', 'validation_hispa63.jpg', 'validation_hispa66.jpg', 'validation_hispa18.jpg', 'validation_hispa2.jpg', 'validation_hispa90.jpg', 'validation_hispa101.jpg', 'validation_hispa92.jpg', 'validation_hispa103.jpg', 'validation_hispa84.jpg', 'validation_hispa95.jpg', 'validation_hispa102.jpg', 'validation_hispa81.jpg', 'validation_hispa28.jpg', 'validation_hispa72.jpg', 'validation_hispa77.jpg', 'validation_hispa3.jpg', 'validation_hispa64.jpg', 'validation_hispa112.jpg']\n",
            "\n",
            "Contents of validation/leafblast directory: ['validation_leafblast70.jpg', 'validation_leafblast37.jpg', 'validation_leafblast76.jpg', 'validation_leafblast61.jpg', 'validation_leafblast69.jpg', 'validation_leafblast92.jpg', 'validation_leafblast108.jpg', 'validation_leafblast33.jpg', 'validation_leafblast19.jpg', 'validation_leafblast15.jpg', 'validation_leafblast103.jpg', 'validation_leafblast43.jpg', 'validation_leafblast45.jpg', 'validation_leafblast2.jpg', 'validation_leafblast47.jpg', 'validation_leafblast97.jpg', 'validation_leafblast107.jpg', 'validation_leafblast72.jpg', 'validation_leafblast58.jpg', 'validation_leafblast29.jpg', 'validation_leafblast79.jpg', 'validation_leafblast16.jpg', 'validation_leafblast12.jpg', 'validation_leafblast96.jpg', 'validation_leafblast53.jpg', 'validation_leafblast30.jpg', 'validation_leafblast10.jpg', 'validation_leafblast48.jpg', 'validation_leafblast73.jpg', 'validation_leafblast63.jpg', 'validation_leafblast102.jpg', 'validation_leafblast27.jpg', 'validation_leafblast25.jpg', 'validation_leafblast67.jpg', 'validation_leafblast41.jpg', 'validation_leafblast17.jpg', 'validation_leafblast52.jpg', 'validation_leafblast88.jpg', 'validation_leafblast57.jpg', 'validation_leafblast42.jpg', 'validation_leafblast8.jpg', 'validation_leafblast113.jpg', 'validation_leafblast3.jpg', 'validation_leafblast95.jpg', 'validation_leafblast82.jpg', 'validation_leafblast26.jpg', 'validation_leafblast5.jpg', 'validation_leafblast75.jpg', 'validation_leafblast22.jpg', 'validation_leafblast51.jpg', 'validation_leafblast60.jpg', 'validation_leafblast1.jpg', 'validation_leafblast9.jpg', 'validation_leafblast105.jpg', 'validation_leafblast50.jpg', 'validation_leafblast112.jpg', 'validation_leafblast90.jpg', 'validation_leafblast84.jpg', 'validation_leafblast94.jpg', 'validation_leafblast71.jpg', 'validation_leafblast98.jpg', 'validation_leafblast81.jpg', 'validation_leafblast21.jpg', 'validation_leafblast14.jpg', 'validation_leafblast86.jpg', 'validation_leafblast83.jpg', 'validation_leafblast66.jpg', 'validation_leafblast104.jpg', 'validation_leafblast110.jpg', 'validation_leafblast40.jpg', 'validation_leafblast109.jpg', 'validation_leafblast80.jpg', 'validation_leafblast54.jpg', 'validation_leafblast7.jpg', 'validation_leafblast93.jpg', 'validation_leafblast111.jpg', 'validation_leafblast89.jpg', 'validation_leafblast49.jpg', 'validation_leafblast101.jpg', 'validation_leafblast13.jpg', 'validation_leafblast34.jpg', 'validation_leafblast62.jpg', 'validation_leafblast87.jpg', 'validation_leafblast44.jpg', 'validation_leafblast56.jpg', 'validation_leafblast91.jpg', 'validation_leafblast4.jpg', 'validation_leafblast65.jpg', 'validation_leafblast36.jpg', 'validation_leafblast32.jpg', 'validation_leafblast77.jpg', 'validation_leafblast11.jpg', 'validation_leafblast100.jpg', 'validation_leafblast55.jpg', 'validation_leafblast46.jpg', 'validation_leafblast28.jpg', 'validation_leafblast38.jpg', 'validation_leafblast23.jpg', 'validation_leafblast18.jpg', 'validation_leafblast59.jpg', 'validation_leafblast6.jpg', 'validation_leafblast99.jpg', 'validation_leafblast85.jpg', 'validation_leafblast39.jpg', 'validation_leafblast106.jpg', 'validation_leafblast20.jpg', 'validation_leafblast78.jpg', 'validation_leafblast64.jpg', 'validation_leafblast24.jpg', 'validation_leafblast35.jpg', 'validation_leafblast31.jpg', 'validation_leafblast68.jpg', 'validation_leafblast74.jpg']\n"
          ]
        }
      ]
    },
    {
      "cell_type": "code",
      "source": [
        "print(f'total training brownspot images: {len(os.listdir(train_brownspot_dir))}')\n",
        "print(f'total training healthy images: {len(os.listdir(train_healthy_dir))}')\n",
        "print(f'total training hispa images: {len(os.listdir(train_hispa_dir))}')\n",
        "print(f'total training leafblast images: {len(os.listdir(train_leafblast_dir))}')\n",
        "\n",
        "print(f'total validation brownspot images: {len(os.listdir(validation_brownspot_dir))}')\n",
        "print(f'total validation healthy images: {len(os.listdir(validation_healthy_dir))}')\n",
        "print(f'total validation hispa images: {len(os.listdir(validation_hispa_dir))}')\n",
        "print(f'total validation leafblast images: {len(os.listdir(validation_leafblast_dir))}')"
      ],
      "metadata": {
        "colab": {
          "base_uri": "https://localhost:8080/"
        },
        "id": "PB4qJ8bNKqtW",
        "outputId": "057aab91-2185-4113-9b5f-716d3f5fff88"
      },
      "execution_count": null,
      "outputs": [
        {
          "output_type": "stream",
          "name": "stdout",
          "text": [
            "total training brownspot images: 450\n",
            "total training healthy images: 450\n",
            "total training hispa images: 450\n",
            "total training leafblast images: 450\n",
            "total validation brownspot images: 113\n",
            "total validation healthy images: 113\n",
            "total validation hispa images: 113\n",
            "total validation leafblast images: 113\n"
          ]
        }
      ]
    },
    {
      "cell_type": "code",
      "source": [
        "base_model = MobileNetV2(\n",
        "    input_shape=(256, 256, 3),\n",
        "    include_top=False,  # Tidak menyertakan lapisan klasifikasi bawaan\n",
        "    weights='imagenet'  # Menggunakan bobot pretrained\n",
        ")\n",
        "base_model.trainable = True\n",
        "for layer in base_model.layers[:100]:\n",
        "    layer.trainable = False"
      ],
      "metadata": {
        "colab": {
          "base_uri": "https://localhost:8080/"
        },
        "id": "3pdSP_ImdTSU",
        "outputId": "7e325fea-15f5-4b64-a811-d14d6851a83f"
      },
      "execution_count": null,
      "outputs": [
        {
          "output_type": "stream",
          "name": "stderr",
          "text": [
            "<ipython-input-32-7f08db5e34e6>:1: UserWarning: `input_shape` is undefined or non-square, or `rows` is not in [96, 128, 160, 192, 224]. Weights for input shape (224, 224) will be loaded as the default.\n",
            "  base_model = MobileNetV2(\n"
          ]
        }
      ]
    },
    {
      "cell_type": "code",
      "source": [
        "model = Sequential([\n",
        "    base_model,\n",
        "    GlobalAveragePooling2D(),\n",
        "    Dense(512, activation='relu'),\n",
        "    tf.keras.layers.Dropout(0.4),\n",
        "    Dense(512, activation='relu', kernel_regularizer=tf.keras.regularizers.l2(0.01)),\n",
        "    Dense(4, activation='softmax')\n",
        "])\n"
      ],
      "metadata": {
        "id": "3dfeSkwmdY_6"
      },
      "execution_count": null,
      "outputs": []
    },
    {
      "cell_type": "code",
      "source": [
        "model.summary()"
      ],
      "metadata": {
        "colab": {
          "base_uri": "https://localhost:8080/",
          "height": 357
        },
        "id": "aZo6O3sJPkaW",
        "outputId": "e10f012e-8638-4e08-adcb-3d911f8232e6"
      },
      "execution_count": null,
      "outputs": [
        {
          "output_type": "display_data",
          "data": {
            "text/plain": [
              "\u001b[1mModel: \"sequential_3\"\u001b[0m\n"
            ],
            "text/html": [
              "<pre style=\"white-space:pre;overflow-x:auto;line-height:normal;font-family:Menlo,'DejaVu Sans Mono',consolas,'Courier New',monospace\"><span style=\"font-weight: bold\">Model: \"sequential_3\"</span>\n",
              "</pre>\n"
            ]
          },
          "metadata": {}
        },
        {
          "output_type": "display_data",
          "data": {
            "text/plain": [
              "┏━━━━━━━━━━━━━━━━━━━━━━━━━━━━━━━━━━━━━━┳━━━━━━━━━━━━━━━━━━━━━━━━━━━━━┳━━━━━━━━━━━━━━━━━┓\n",
              "┃\u001b[1m \u001b[0m\u001b[1mLayer (type)                        \u001b[0m\u001b[1m \u001b[0m┃\u001b[1m \u001b[0m\u001b[1mOutput Shape               \u001b[0m\u001b[1m \u001b[0m┃\u001b[1m \u001b[0m\u001b[1m        Param #\u001b[0m\u001b[1m \u001b[0m┃\n",
              "┡━━━━━━━━━━━━━━━━━━━━━━━━━━━━━━━━━━━━━━╇━━━━━━━━━━━━━━━━━━━━━━━━━━━━━╇━━━━━━━━━━━━━━━━━┩\n",
              "│ mobilenetv2_1.00_224 (\u001b[38;5;33mFunctional\u001b[0m)    │ (\u001b[38;5;45mNone\u001b[0m, \u001b[38;5;34m8\u001b[0m, \u001b[38;5;34m8\u001b[0m, \u001b[38;5;34m1280\u001b[0m)          │       \u001b[38;5;34m2,257,984\u001b[0m │\n",
              "├──────────────────────────────────────┼─────────────────────────────┼─────────────────┤\n",
              "│ global_average_pooling2d_4           │ (\u001b[38;5;45mNone\u001b[0m, \u001b[38;5;34m1280\u001b[0m)                │               \u001b[38;5;34m0\u001b[0m │\n",
              "│ (\u001b[38;5;33mGlobalAveragePooling2D\u001b[0m)             │                             │                 │\n",
              "├──────────────────────────────────────┼─────────────────────────────┼─────────────────┤\n",
              "│ dense_7 (\u001b[38;5;33mDense\u001b[0m)                      │ (\u001b[38;5;45mNone\u001b[0m, \u001b[38;5;34m512\u001b[0m)                 │         \u001b[38;5;34m655,872\u001b[0m │\n",
              "├──────────────────────────────────────┼─────────────────────────────┼─────────────────┤\n",
              "│ dropout_1 (\u001b[38;5;33mDropout\u001b[0m)                  │ (\u001b[38;5;45mNone\u001b[0m, \u001b[38;5;34m512\u001b[0m)                 │               \u001b[38;5;34m0\u001b[0m │\n",
              "├──────────────────────────────────────┼─────────────────────────────┼─────────────────┤\n",
              "│ dense_8 (\u001b[38;5;33mDense\u001b[0m)                      │ (\u001b[38;5;45mNone\u001b[0m, \u001b[38;5;34m512\u001b[0m)                 │         \u001b[38;5;34m262,656\u001b[0m │\n",
              "├──────────────────────────────────────┼─────────────────────────────┼─────────────────┤\n",
              "│ dense_9 (\u001b[38;5;33mDense\u001b[0m)                      │ (\u001b[38;5;45mNone\u001b[0m, \u001b[38;5;34m4\u001b[0m)                   │           \u001b[38;5;34m2,052\u001b[0m │\n",
              "└──────────────────────────────────────┴─────────────────────────────┴─────────────────┘\n"
            ],
            "text/html": [
              "<pre style=\"white-space:pre;overflow-x:auto;line-height:normal;font-family:Menlo,'DejaVu Sans Mono',consolas,'Courier New',monospace\">┏━━━━━━━━━━━━━━━━━━━━━━━━━━━━━━━━━━━━━━┳━━━━━━━━━━━━━━━━━━━━━━━━━━━━━┳━━━━━━━━━━━━━━━━━┓\n",
              "┃<span style=\"font-weight: bold\"> Layer (type)                         </span>┃<span style=\"font-weight: bold\"> Output Shape                </span>┃<span style=\"font-weight: bold\">         Param # </span>┃\n",
              "┡━━━━━━━━━━━━━━━━━━━━━━━━━━━━━━━━━━━━━━╇━━━━━━━━━━━━━━━━━━━━━━━━━━━━━╇━━━━━━━━━━━━━━━━━┩\n",
              "│ mobilenetv2_1.00_224 (<span style=\"color: #0087ff; text-decoration-color: #0087ff\">Functional</span>)    │ (<span style=\"color: #00d7ff; text-decoration-color: #00d7ff\">None</span>, <span style=\"color: #00af00; text-decoration-color: #00af00\">8</span>, <span style=\"color: #00af00; text-decoration-color: #00af00\">8</span>, <span style=\"color: #00af00; text-decoration-color: #00af00\">1280</span>)          │       <span style=\"color: #00af00; text-decoration-color: #00af00\">2,257,984</span> │\n",
              "├──────────────────────────────────────┼─────────────────────────────┼─────────────────┤\n",
              "│ global_average_pooling2d_4           │ (<span style=\"color: #00d7ff; text-decoration-color: #00d7ff\">None</span>, <span style=\"color: #00af00; text-decoration-color: #00af00\">1280</span>)                │               <span style=\"color: #00af00; text-decoration-color: #00af00\">0</span> │\n",
              "│ (<span style=\"color: #0087ff; text-decoration-color: #0087ff\">GlobalAveragePooling2D</span>)             │                             │                 │\n",
              "├──────────────────────────────────────┼─────────────────────────────┼─────────────────┤\n",
              "│ dense_7 (<span style=\"color: #0087ff; text-decoration-color: #0087ff\">Dense</span>)                      │ (<span style=\"color: #00d7ff; text-decoration-color: #00d7ff\">None</span>, <span style=\"color: #00af00; text-decoration-color: #00af00\">512</span>)                 │         <span style=\"color: #00af00; text-decoration-color: #00af00\">655,872</span> │\n",
              "├──────────────────────────────────────┼─────────────────────────────┼─────────────────┤\n",
              "│ dropout_1 (<span style=\"color: #0087ff; text-decoration-color: #0087ff\">Dropout</span>)                  │ (<span style=\"color: #00d7ff; text-decoration-color: #00d7ff\">None</span>, <span style=\"color: #00af00; text-decoration-color: #00af00\">512</span>)                 │               <span style=\"color: #00af00; text-decoration-color: #00af00\">0</span> │\n",
              "├──────────────────────────────────────┼─────────────────────────────┼─────────────────┤\n",
              "│ dense_8 (<span style=\"color: #0087ff; text-decoration-color: #0087ff\">Dense</span>)                      │ (<span style=\"color: #00d7ff; text-decoration-color: #00d7ff\">None</span>, <span style=\"color: #00af00; text-decoration-color: #00af00\">512</span>)                 │         <span style=\"color: #00af00; text-decoration-color: #00af00\">262,656</span> │\n",
              "├──────────────────────────────────────┼─────────────────────────────┼─────────────────┤\n",
              "│ dense_9 (<span style=\"color: #0087ff; text-decoration-color: #0087ff\">Dense</span>)                      │ (<span style=\"color: #00d7ff; text-decoration-color: #00d7ff\">None</span>, <span style=\"color: #00af00; text-decoration-color: #00af00\">4</span>)                   │           <span style=\"color: #00af00; text-decoration-color: #00af00\">2,052</span> │\n",
              "└──────────────────────────────────────┴─────────────────────────────┴─────────────────┘\n",
              "</pre>\n"
            ]
          },
          "metadata": {}
        },
        {
          "output_type": "display_data",
          "data": {
            "text/plain": [
              "\u001b[1m Total params: \u001b[0m\u001b[38;5;34m3,178,564\u001b[0m (12.13 MB)\n"
            ],
            "text/html": [
              "<pre style=\"white-space:pre;overflow-x:auto;line-height:normal;font-family:Menlo,'DejaVu Sans Mono',consolas,'Courier New',monospace\"><span style=\"font-weight: bold\"> Total params: </span><span style=\"color: #00af00; text-decoration-color: #00af00\">3,178,564</span> (12.13 MB)\n",
              "</pre>\n"
            ]
          },
          "metadata": {}
        },
        {
          "output_type": "display_data",
          "data": {
            "text/plain": [
              "\u001b[1m Trainable params: \u001b[0m\u001b[38;5;34m2,782,020\u001b[0m (10.61 MB)\n"
            ],
            "text/html": [
              "<pre style=\"white-space:pre;overflow-x:auto;line-height:normal;font-family:Menlo,'DejaVu Sans Mono',consolas,'Courier New',monospace\"><span style=\"font-weight: bold\"> Trainable params: </span><span style=\"color: #00af00; text-decoration-color: #00af00\">2,782,020</span> (10.61 MB)\n",
              "</pre>\n"
            ]
          },
          "metadata": {}
        },
        {
          "output_type": "display_data",
          "data": {
            "text/plain": [
              "\u001b[1m Non-trainable params: \u001b[0m\u001b[38;5;34m396,544\u001b[0m (1.51 MB)\n"
            ],
            "text/html": [
              "<pre style=\"white-space:pre;overflow-x:auto;line-height:normal;font-family:Menlo,'DejaVu Sans Mono',consolas,'Courier New',monospace\"><span style=\"font-weight: bold\"> Non-trainable params: </span><span style=\"color: #00af00; text-decoration-color: #00af00\">396,544</span> (1.51 MB)\n",
              "</pre>\n"
            ]
          },
          "metadata": {}
        }
      ]
    },
    {
      "cell_type": "code",
      "source": [
        "model.compile(optimizer=Adam(learning_rate=0.0001),\n",
        "              loss='categorical_crossentropy',\n",
        "              metrics=['accuracy'])"
      ],
      "metadata": {
        "id": "WZK_8veJP5Nz"
      },
      "execution_count": null,
      "outputs": []
    },
    {
      "cell_type": "code",
      "source": [
        "# Membuat generator dengan augmentasi\n",
        "datagen = ImageDataGenerator(\n",
        "    rescale=1./255,  # Normalisasi pixel (0-1)\n",
        "    rotation_range=20,\n",
        "    width_shift_range=0.2,\n",
        "    height_shift_range=0.2,\n",
        "    shear_range=0.2,\n",
        "    zoom_range=0.2,\n",
        "    horizontal_flip=True,\n",
        "    fill_mode='nearest'\n",
        ")\n",
        "\n",
        "# Dataset training dengan augmentasi\n",
        "train_dataset_augmented = datagen.flow_from_directory(\n",
        "    train_dir,\n",
        "    target_size=(256, 256),  # Ukuran gambar\n",
        "    batch_size=30,          # Ukuran batch\n",
        "    class_mode='categorical'\n",
        ")\n",
        "\n",
        "# Dataset validasi (tanpa augmentasi)\n",
        "val_datagen = ImageDataGenerator(rescale=1./255)\n",
        "validation_dataset = val_datagen.flow_from_directory(\n",
        "    validation_dir,\n",
        "    target_size=(256, 256),\n",
        "    batch_size=30,\n",
        "    class_mode='categorical'\n",
        ")"
      ],
      "metadata": {
        "colab": {
          "base_uri": "https://localhost:8080/"
        },
        "id": "uBVI4RilQE6b",
        "outputId": "ad1fe14c-c5cf-4e6d-ef08-94fee7840ffc"
      },
      "execution_count": null,
      "outputs": [
        {
          "output_type": "stream",
          "name": "stdout",
          "text": [
            "Found 1800 images belonging to 4 classes.\n",
            "Found 452 images belonging to 4 classes.\n"
          ]
        }
      ]
    },
    {
      "cell_type": "code",
      "source": [
        "early_stopping = tf.keras.callbacks.EarlyStopping(monitor='val_loss', patience=5, restore_best_weights=True)\n",
        "lr_scheduler = tf.keras.callbacks.ReduceLROnPlateau(monitor='val_loss', factor=0.5, patience=3)"
      ],
      "metadata": {
        "id": "9D8aaDuN4zS5"
      },
      "execution_count": null,
      "outputs": []
    },
    {
      "cell_type": "code",
      "source": [
        "history = model.fit(\n",
        "    train_dataset_augmented,\n",
        "    epochs=15,\n",
        "    validation_data=validation_dataset,\n",
        "    callbacks=[early_stopping, lr_scheduler]\n",
        ")"
      ],
      "metadata": {
        "colab": {
          "base_uri": "https://localhost:8080/"
        },
        "id": "mLB7Uw2wQ0O-",
        "outputId": "b1d7b9c4-c0fa-4103-d160-d86e081e8781"
      },
      "execution_count": null,
      "outputs": [
        {
          "output_type": "stream",
          "name": "stdout",
          "text": [
            "Epoch 1/15\n"
          ]
        },
        {
          "output_type": "stream",
          "name": "stderr",
          "text": [
            "/usr/local/lib/python3.10/dist-packages/keras/src/trainers/data_adapters/py_dataset_adapter.py:122: UserWarning: Your `PyDataset` class should call `super().__init__(**kwargs)` in its constructor. `**kwargs` can include `workers`, `use_multiprocessing`, `max_queue_size`. Do not pass these arguments to `fit()`, as they will be ignored.\n",
            "  self._warn_if_super_not_called()\n"
          ]
        },
        {
          "output_type": "stream",
          "name": "stdout",
          "text": [
            "\u001b[1m60/60\u001b[0m \u001b[32m━━━━━━━━━━━━━━━━━━━━\u001b[0m\u001b[37m\u001b[0m \u001b[1m263s\u001b[0m 4s/step - accuracy: 0.3664 - loss: 6.3152 - val_accuracy: 0.3274 - val_loss: 6.1101 - learning_rate: 1.0000e-04\n",
            "Epoch 2/15\n",
            "\u001b[1m60/60\u001b[0m \u001b[32m━━━━━━━━━━━━━━━━━━━━\u001b[0m\u001b[37m\u001b[0m \u001b[1m244s\u001b[0m 4s/step - accuracy: 0.5595 - loss: 5.4845 - val_accuracy: 0.3319 - val_loss: 5.9516 - learning_rate: 1.0000e-04\n",
            "Epoch 3/15\n",
            "\u001b[1m60/60\u001b[0m \u001b[32m━━━━━━━━━━━━━━━━━━━━\u001b[0m\u001b[37m\u001b[0m \u001b[1m256s\u001b[0m 4s/step - accuracy: 0.6314 - loss: 4.9000 - val_accuracy: 0.3407 - val_loss: 5.8270 - learning_rate: 1.0000e-04\n",
            "Epoch 4/15\n",
            "\u001b[1m60/60\u001b[0m \u001b[32m━━━━━━━━━━━━━━━━━━━━\u001b[0m\u001b[37m\u001b[0m \u001b[1m239s\u001b[0m 4s/step - accuracy: 0.6998 - loss: 4.3926 - val_accuracy: 0.3186 - val_loss: 5.8242 - learning_rate: 1.0000e-04\n",
            "Epoch 5/15\n",
            "\u001b[1m60/60\u001b[0m \u001b[32m━━━━━━━━━━━━━━━━━━━━\u001b[0m\u001b[37m\u001b[0m \u001b[1m280s\u001b[0m 4s/step - accuracy: 0.7004 - loss: 4.0078 - val_accuracy: 0.3075 - val_loss: 6.0707 - learning_rate: 1.0000e-04\n",
            "Epoch 6/15\n",
            "\u001b[1m60/60\u001b[0m \u001b[32m━━━━━━━━━━━━━━━━━━━━\u001b[0m\u001b[37m\u001b[0m \u001b[1m260s\u001b[0m 4s/step - accuracy: 0.7260 - loss: 3.6346 - val_accuracy: 0.3053 - val_loss: 5.5704 - learning_rate: 1.0000e-04\n",
            "Epoch 7/15\n",
            "\u001b[1m60/60\u001b[0m \u001b[32m━━━━━━━━━━━━━━━━━━━━\u001b[0m\u001b[37m\u001b[0m \u001b[1m254s\u001b[0m 4s/step - accuracy: 0.7173 - loss: 3.3499 - val_accuracy: 0.2987 - val_loss: 5.2540 - learning_rate: 1.0000e-04\n",
            "Epoch 8/15\n",
            "\u001b[1m60/60\u001b[0m \u001b[32m━━━━━━━━━━━━━━━━━━━━\u001b[0m\u001b[37m\u001b[0m \u001b[1m259s\u001b[0m 4s/step - accuracy: 0.7706 - loss: 3.0233 - val_accuracy: 0.2942 - val_loss: 5.5722 - learning_rate: 1.0000e-04\n",
            "Epoch 9/15\n",
            "\u001b[1m60/60\u001b[0m \u001b[32m━━━━━━━━━━━━━━━━━━━━\u001b[0m\u001b[37m\u001b[0m \u001b[1m256s\u001b[0m 4s/step - accuracy: 0.7671 - loss: 2.7833 - val_accuracy: 0.3252 - val_loss: 5.3737 - learning_rate: 1.0000e-04\n",
            "Epoch 10/15\n",
            "\u001b[1m60/60\u001b[0m \u001b[32m━━━━━━━━━━━━━━━━━━━━\u001b[0m\u001b[37m\u001b[0m \u001b[1m241s\u001b[0m 4s/step - accuracy: 0.7611 - loss: 2.5564 - val_accuracy: 0.3429 - val_loss: 4.8273 - learning_rate: 1.0000e-04\n",
            "Epoch 11/15\n",
            "\u001b[1m60/60\u001b[0m \u001b[32m━━━━━━━━━━━━━━━━━━━━\u001b[0m\u001b[37m\u001b[0m \u001b[1m257s\u001b[0m 4s/step - accuracy: 0.7561 - loss: 2.3924 - val_accuracy: 0.3872 - val_loss: 4.5980 - learning_rate: 1.0000e-04\n",
            "Epoch 12/15\n",
            "\u001b[1m60/60\u001b[0m \u001b[32m━━━━━━━━━━━━━━━━━━━━\u001b[0m\u001b[37m\u001b[0m \u001b[1m246s\u001b[0m 4s/step - accuracy: 0.8001 - loss: 2.1742 - val_accuracy: 0.3916 - val_loss: 4.5892 - learning_rate: 1.0000e-04\n",
            "Epoch 13/15\n",
            "\u001b[1m60/60\u001b[0m \u001b[32m━━━━━━━━━━━━━━━━━━━━\u001b[0m\u001b[37m\u001b[0m \u001b[1m241s\u001b[0m 4s/step - accuracy: 0.8024 - loss: 2.0244 - val_accuracy: 0.3695 - val_loss: 4.6220 - learning_rate: 1.0000e-04\n",
            "Epoch 14/15\n",
            "\u001b[1m60/60\u001b[0m \u001b[32m━━━━━━━━━━━━━━━━━━━━\u001b[0m\u001b[37m\u001b[0m \u001b[1m243s\u001b[0m 4s/step - accuracy: 0.8259 - loss: 1.8445 - val_accuracy: 0.3783 - val_loss: 4.9515 - learning_rate: 1.0000e-04\n",
            "Epoch 15/15\n",
            "\u001b[1m60/60\u001b[0m \u001b[32m━━━━━━━━━━━━━━━━━━━━\u001b[0m\u001b[37m\u001b[0m \u001b[1m247s\u001b[0m 4s/step - accuracy: 0.8052 - loss: 1.7630 - val_accuracy: 0.3960 - val_loss: 4.6316 - learning_rate: 1.0000e-04\n"
          ]
        }
      ]
    },
    {
      "cell_type": "code",
      "source": [],
      "metadata": {
        "id": "TzjB6Dh2RTbY"
      },
      "execution_count": null,
      "outputs": []
    }
  ]
}